{
 "cells": [
  {
   "cell_type": "code",
   "execution_count": 1,
   "id": "9ba95954-c62f-4182-bb6d-612dcad28fea",
   "metadata": {},
   "outputs": [
    {
     "name": "stdout",
     "output_type": "stream",
     "text": [
      "15\n"
     ]
    }
   ],
   "source": [
    "def multiply(a, b) :\n",
    "    print(a * b)\n",
    "    a = 3\n",
    "    b = 5\n",
    "\n",
    "multiply(3, 5)"
   ]
  },
  {
   "cell_type": "code",
   "execution_count": 2,
   "id": "e8c25fd3-58d7-4adb-94ca-1de75955d41d",
   "metadata": {},
   "outputs": [
    {
     "name": "stdout",
     "output_type": "stream",
     "text": [
      "Say: I love you!\n",
      "\n",
      "me too 2019\n"
     ]
    }
   ],
   "source": [
    "print('Say: I love you!')\n",
    "print()\n",
    "print('me too', 2019)"
   ]
  },
  {
   "cell_type": "code",
   "execution_count": 3,
   "id": "3d85c1eb-0d3a-400d-bc9d-0f944544796a",
   "metadata": {},
   "outputs": [
    {
     "name": "stdout",
     "output_type": "stream",
     "text": [
      "15\n",
      "-2.5\n",
      "amazing amazing amazing \n"
     ]
    }
   ],
   "source": [
    "def multiply(a, b) :\n",
    "    print(a * b)\n",
    "\n",
    "multiply(3, 5)\n",
    "multiply(-1, 2.5)\n",
    "multiply('amazing ', 3)  # it's really amazing, right?"
   ]
  },
  {
   "cell_type": "code",
   "execution_count": 4,
   "id": "f7d17179-90fa-4f20-b81c-92a2d78ebac1",
   "metadata": {},
   "outputs": [
    {
     "name": "stdout",
     "output_type": "stream",
     "text": [
      "Don't hesitate to reinvent yourself!\n"
     ]
    }
   ],
   "source": [
    "def motto() :\n",
    "    print(\"Don't hesitate to reinvent yourself!\")\n",
    "\n",
    "motto()  # it takes no argument"
   ]
  },
  {
   "cell_type": "code",
   "execution_count": 5,
   "id": "ea58cb7e-9dc4-4e33-a69e-2fc485840293",
   "metadata": {},
   "outputs": [
    {
     "name": "stdout",
     "output_type": "stream",
     "text": [
      "50\n",
      "50\n"
     ]
    }
   ],
   "source": [
    "def multiply_1(a, b) :\n",
    "    print(a * b)  # it prints something\n",
    "\n",
    "def multiply_2(a, b) :\n",
    "    return a * b  # returns any numeric data type value\n",
    "\n",
    "multiply_1(10, 5)\n",
    "print(multiply_2(10, 5))"
   ]
  },
  {
   "cell_type": "code",
   "execution_count": 6,
   "id": "db2fce7a-7e44-4a9f-a830-277887c3b588",
   "metadata": {},
   "outputs": [
    {
     "name": "stdout",
     "output_type": "stream",
     "text": [
      "20\n",
      "<class 'NoneType'>\n",
      "<class 'int'>\n"
     ]
    }
   ],
   "source": [
    "print(type(multiply_1(10, 2)))   # programımızda ihtiyaç duyduğumuzda, NoneType verisi olduğu için ilk fonksiyonun sonucunu kullanamıyoruz \n",
    "print(type(multiply_2(10, 5)))   #ikincisi , gelecekte ihtiyaç duyduğumuzda kullanabileceğimiz tamsayı verilerdir \n"
   ]
  },
  {
   "cell_type": "code",
   "execution_count": 7,
   "id": "168844fb-f29d-4ab5-81e2-3ab9f90b2f0a",
   "metadata": {},
   "outputs": [
    {
     "name": "stdout",
     "output_type": "stream",
     "text": [
      "Your first name is : Guido\n",
      "Your last name is : van Rossum\n",
      "\n",
      "Your first name is : Marry\n",
      "Your last name is : Bold\n"
     ]
    }
   ],
   "source": [
    "def who(first, last) :  # 'first' and 'last' are the parameters(or variables)\n",
    "    print('Your first name is :', first)\n",
    "    print('Your last name is :', last)\n",
    "\n",
    "who('Guido', 'van Rossum')  # 'Guido' and 'van Rossum' are the arguments\n",
    "print()\n",
    "who('Marry', 'Bold')  # 'Marry' and 'Bold' are also the arguments\n"
   ]
  },
  {
   "cell_type": "code",
   "execution_count": 8,
   "id": "cabc0245-7794-4a0f-b777-cf3b9a1ad76e",
   "metadata": {},
   "outputs": [
    {
     "name": "stdout",
     "output_type": "stream",
     "text": [
      "3 is the first argument\n",
      "4 is the second argument\n",
      "\n",
      "4 is the first argument\n",
      "3 is the second argument\n"
     ]
    }
   ],
   "source": [
    "def pos_args(a, b):\n",
    "    print(a, 'is the first argument')\n",
    "    print(b, 'is the second argument')\n",
    "\n",
    "pos_args(3,4)\n",
    "print()                              # bos print bos satir icin konmus\n",
    "pos_args(4,3)"
   ]
  },
  {
   "cell_type": "code",
   "execution_count": 9,
   "id": "3be173f6-81c6-423e-b048-d3ac22b448ce",
   "metadata": {},
   "outputs": [
    {
     "name": "stdout",
     "output_type": "stream",
     "text": [
      "Your first name is : Guido\n",
      "Your last name is : van Rossum\n"
     ]
    }
   ],
   "source": [
    "def who(first, last) :  # same structure as the previous one\n",
    "    print('Your first name is :', first)\n",
    "    print('Your last name is :', last)\n",
    "\n",
    "who(first='Guido', last='van Rossum')  # calling the function is different\n",
    "# we used kwargs to pass the values into the function"
   ]
  },
  {
   "cell_type": "code",
   "execution_count": 10,
   "id": "49f8eb80-923e-428e-a18e-7b341e05fa51",
   "metadata": {},
   "outputs": [
    {
     "name": "stdout",
     "output_type": "stream",
     "text": [
      "-- This parrot wouldn't voom if you put 1000 volts through it.\n",
      "-- Lovely plumage, the Norwegian Blue\n",
      "-- It's a stiff !\n",
      "-- This parrot wouldn't voom if you put 1000 volts through it.\n",
      "-- Lovely plumage, the Norwegian Blue\n",
      "-- It's a stiff !\n",
      "-- This parrot wouldn't VOOOOOM if you put 1000000 volts through it.\n",
      "-- Lovely plumage, the Norwegian Blue\n",
      "-- It's a stiff !\n",
      "-- This parrot wouldn't VOOOOOM if you put 1000000 volts through it.\n",
      "-- Lovely plumage, the Norwegian Blue\n",
      "-- It's a stiff !\n",
      "-- This parrot wouldn't jump if you put a million volts through it.\n",
      "-- Lovely plumage, the Norwegian Blue\n",
      "-- It's bereft of life !\n",
      "-- This parrot wouldn't voom if you put a thousand volts through it.\n",
      "-- Lovely plumage, the Norwegian Blue\n",
      "-- It's pushing up the daisies !\n"
     ]
    }
   ],
   "source": [
    "def parrot(voltage, state='a stiff', action='voom', type='Norwegian Blue'):\n",
    "    print(\"-- This parrot wouldn't\", action, end=' ')\n",
    "    print(\"if you put\", voltage, \"volts through it.\")\n",
    "    print(\"-- Lovely plumage, the\", type)\n",
    "    print(\"-- It's\", state, \"!\")\n",
    "    \n",
    "\n",
    "parrot(1000)                                          # 1 positional argument\n",
    "parrot(voltage=1000)                                  # 1 keyword argument\n",
    "parrot(voltage=1000000, action='VOOOOOM')             # 2 keyword arguments\n",
    "parrot(action='VOOOOOM', voltage=1000000)             # 2 keyword arguments \n",
    "parrot('a million', 'bereft of life', 'jump')         # 3 positional arguments\n",
    "parrot('a thousand', state='pushing up the daisies')  # 1 positional, 1 keyword   \n",
    "\n",
    "\n",
    "\n",
    "#parrot()                     ## gerekli bağımsız değişken eksik \n",
    "#parrot(voltage=5.0, 'dead')   # anahtar sözcük bağımsız değişkeninden sonra anahtar sözcük olmayan bağımsız değişken \n",
    "#parrot(110, voltage=220)      # # aynı bağımsız değişken için yinelenen değer \n",
    "#parrot(actor='John Cleese')   # bilinmeyen anahtar kelime argümanı"
   ]
  },
  {
   "cell_type": "code",
   "execution_count": 11,
   "id": "7ae7dc52-3c90-42fb-ad8c-d7240ec62623",
   "metadata": {},
   "outputs": [
    {
     "name": "stdout",
     "output_type": "stream",
     "text": [
      "True True True\n"
     ]
    }
   ],
   "source": [
    "print(all({}), all([]), all(()))  #all fonksiyonu bos kolleksiyonlara True verir"
   ]
  },
  {
   "cell_type": "code",
   "execution_count": 12,
   "id": "c527c477-adc5-4f84-bd6b-da762a80f642",
   "metadata": {},
   "outputs": [
    {
     "name": "stdout",
     "output_type": "stream",
     "text": [
      "False False False\n"
     ]
    }
   ],
   "source": [
    "print(any({}), any([]), any(()))  #any fonksiyonu bos kolleksiyonlara false verir"
   ]
  },
  {
   "cell_type": "code",
   "execution_count": 13,
   "id": "f74c41c3-d08a-4f19-a8c1-490128b69ddb",
   "metadata": {},
   "outputs": [
    {
     "data": {
      "text/plain": [
       "<filter at 0x24b450db0d0>"
      ]
     },
     "execution_count": 13,
     "metadata": {},
     "output_type": "execute_result"
    }
   ],
   "source": [
    "listA = [\"susan\", \"tom\", False, 0, 22, \"0\"]   # dizileri belirli bir fonksiyona gore suzer\n",
    "filtered_list = filter(None, listA)\n",
    "filtered_list"
   ]
  },
  {
   "cell_type": "code",
   "execution_count": 14,
   "id": "754087f4-646e-46de-88d0-879f20a4d8e7",
   "metadata": {},
   "outputs": [
    {
     "name": "stdout",
     "output_type": "stream",
     "text": [
      "The filtered elements are :\n",
      "susan\n",
      "tom\n",
      "22\n",
      "0\n"
     ]
    }
   ],
   "source": [
    "print(\"The filtered elements are :\")\n",
    "for i in filtered_list :\n",
    "    print(i)"
   ]
  },
  {
   "cell_type": "code",
   "execution_count": 15,
   "id": "ba0c3497-e6ef-499f-8b8b-472378dd9168",
   "metadata": {},
   "outputs": [
    {
     "name": "stdout",
     "output_type": "stream",
     "text": [
      "<class 'enumerate'>\n",
      "[(0, 'bread'), (1, 'water'), (2, 'olive')]\n",
      "[(10, 'bread'), (11, 'water'), (12, 'olive')]\n"
     ]
    }
   ],
   "source": [
    "grocery = [\"bread\", \"water\", \"olive\"]\n",
    "enum_grocery = enumerate(grocery)   # kollection dizilerini numaralandirarak tuple gruplari halinde listeler\n",
    "\n",
    "print(type(enum_grocery))\n",
    "print(list(enum_grocery))\n",
    "enum_grocery = enumerate(grocery, 10)\n",
    "print(list(enum_grocery))"
   ]
  },
  {
   "cell_type": "code",
   "execution_count": 16,
   "id": "a777e317-6b26-4bd2-b20a-d3d80929aa9b",
   "metadata": {},
   "outputs": [
    {
     "data": {
      "text/plain": [
       "'a'"
      ]
     },
     "execution_count": 16,
     "metadata": {},
     "output_type": "execute_result"
    }
   ],
   "source": [
    "min(\"ahmet\")   #en kucuk olani verir"
   ]
  },
  {
   "cell_type": "code",
   "execution_count": 17,
   "id": "db3251d5-8067-4334-9097-5b813a8ff886",
   "metadata": {},
   "outputs": [
    {
     "data": {
      "text/plain": [
       "'t'"
      ]
     },
     "execution_count": 17,
     "metadata": {},
     "output_type": "execute_result"
    }
   ],
   "source": [
    "max(\"ahmet\")  #en buyuk olani verir"
   ]
  },
  {
   "cell_type": "code",
   "execution_count": 18,
   "id": "97163e75-5544-4f11-9217-4bfffb9ba78f",
   "metadata": {},
   "outputs": [
    {
     "data": {
      "text/plain": [
       "5"
      ]
     },
     "execution_count": 18,
     "metadata": {},
     "output_type": "execute_result"
    }
   ],
   "source": [
    "max(1, 2, 3, 4, 5)"
   ]
  },
  {
   "cell_type": "code",
   "execution_count": 19,
   "id": "7093c867-c47d-4811-a5a8-2b08bdfca907",
   "metadata": {},
   "outputs": [
    {
     "data": {
      "text/plain": [
       "1"
      ]
     },
     "execution_count": 19,
     "metadata": {},
     "output_type": "execute_result"
    }
   ],
   "source": [
    "min(1, 2, 3, 4, 5)"
   ]
  },
  {
   "cell_type": "code",
   "execution_count": 20,
   "id": "652c6a9e-9426-4e35-b2cf-ebc859830b20",
   "metadata": {},
   "outputs": [
    {
     "name": "stdout",
     "output_type": "stream",
     "text": [
      "21.5\n",
      "41.5\n"
     ]
    }
   ],
   "source": [
    "numbers = [2.5, 30, 4, -15]\n",
    "numbers_sum = sum(numbers)\n",
    "print(numbers_sum)\n",
    "\n",
    "numbers_sum = sum(numbers, 20)   # numbers kolleksiyon icindekileri toplar\n",
    "print(numbers_sum)\n"
   ]
  },
  {
   "cell_type": "code",
   "execution_count": 21,
   "id": "127b52d2-1acd-4b72-bb6e-f433892d8dc4",
   "metadata": {},
   "outputs": [
    {
     "ename": "TypeError",
     "evalue": "sum() takes at most 2 arguments (5 given)",
     "output_type": "error",
     "traceback": [
      "\u001b[1;31m---------------------------------------------------------------------------\u001b[0m",
      "\u001b[1;31mTypeError\u001b[0m                                 Traceback (most recent call last)",
      "\u001b[1;32m<ipython-input-21-212f3683bff0>\u001b[0m in \u001b[0;36m<module>\u001b[1;34m\u001b[0m\n\u001b[1;32m----> 1\u001b[1;33m \u001b[0msum\u001b[0m\u001b[1;33m(\u001b[0m\u001b[1;36m1\u001b[0m\u001b[1;33m,\u001b[0m \u001b[1;36m2\u001b[0m\u001b[1;33m,\u001b[0m \u001b[1;36m3\u001b[0m\u001b[1;33m,\u001b[0m \u001b[1;36m4\u001b[0m\u001b[1;33m,\u001b[0m \u001b[1;36m5\u001b[0m\u001b[1;33m)\u001b[0m   \u001b[1;31m# sum fonksiyonu en fazla 2 argument alir\u001b[0m\u001b[1;33m\u001b[0m\u001b[1;33m\u001b[0m\u001b[0m\n\u001b[0m",
      "\u001b[1;31mTypeError\u001b[0m: sum() takes at most 2 arguments (5 given)"
     ]
    }
   ],
   "source": [
    "sum(1, 2, 3, 4, 5)   # sum fonksiyonu en fazla 2 argument alir"
   ]
  },
  {
   "cell_type": "code",
   "execution_count": null,
   "id": "439f7a8d-c2ee-45f0-9b8b-d304dcfa325f",
   "metadata": {},
   "outputs": [],
   "source": [
    "print(round(12))\n",
    "print(round(10.8))\n",
    "print(round(3.665, 2))   # floatların integer gibi bi karşılığı yok binary sistemde   3.6652354554\n",
    "print(round(3.675, 2))   # bu yuzden ikisinide ayni yuvarlamis gibi oldu              3.674999999"
   ]
  },
  {
   "cell_type": "code",
   "execution_count": null,
   "id": "b7530969-1b67-49d0-af0e-89b4fd5c31ae",
   "metadata": {},
   "outputs": [],
   "source": [
    "def first_function(x, y):\n",
    "    print(x **2 + y ** 2)"
   ]
  },
  {
   "cell_type": "code",
   "execution_count": null,
   "id": "6cd65875-8cd1-4954-81e7-f5a944955736",
   "metadata": {},
   "outputs": [],
   "source": [
    "first_function(3, 4)"
   ]
  },
  {
   "cell_type": "code",
   "execution_count": null,
   "id": "8723f47b-2906-42a8-8f50-ecb5acc56ba8",
   "metadata": {},
   "outputs": [],
   "source": [
    "def hipotenus(a, b):\n",
    "    print((a ** 2 + b ** 2) ** 0.5)\n",
    "    \n"
   ]
  },
  {
   "cell_type": "code",
   "execution_count": null,
   "id": "3e38474f-07d5-4e6d-8282-cf1ffcda70f9",
   "metadata": {},
   "outputs": [],
   "source": [
    "hipotenus(3, 4)"
   ]
  },
  {
   "cell_type": "code",
   "execution_count": null,
   "id": "fb8dffcb-1859-4389-b6bb-0fc1178171f3",
   "metadata": {},
   "outputs": [],
   "source": [
    "def rumi():  # hicbir fonksiyon tanimlamazsak print olani yazdirir\n",
    "    print(\"\"\"Duydum ki bizi bırakmaya azmediyorsun, etme.\n",
    "Başka bir yar, başka bir dosta meylediyorsun, etme.\n",
    "Sen yadeller dünyasında ne arıyorsun yabancı?\n",
    "Hangi hasta gönüllüyü kastediyorsun, etme.\n",
    "Çalma bizi, bizden bizi, gitme o ellere doğru.\n",
    "Çalınmış başkalarına nazar ediyorsun, etme.\n",
    "    \"\"\")"
   ]
  },
  {
   "cell_type": "code",
   "execution_count": null,
   "id": "91177df9-d2cb-4394-9ef1-6338335bb895",
   "metadata": {},
   "outputs": [],
   "source": [
    "rumi()"
   ]
  },
  {
   "cell_type": "code",
   "execution_count": null,
   "id": "aea7b1fe-87c9-4bc4-a228-48a00dd5b77f",
   "metadata": {},
   "outputs": [],
   "source": [
    "def add(sayi1, sayi2):\n",
    "    print(sayi1 + sayi2)\n",
    "    "
   ]
  },
  {
   "cell_type": "code",
   "execution_count": null,
   "id": "a114bba1-a78a-41cf-bfd0-bec175c1e91a",
   "metadata": {},
   "outputs": [],
   "source": [
    "add(2, 3)"
   ]
  },
  {
   "cell_type": "code",
   "execution_count": null,
   "id": "3ccbaaaf-56c4-4ce9-9675-9cd729aef02f",
   "metadata": {},
   "outputs": [],
   "source": [
    "add(\"5\", \"5\")"
   ]
  },
  {
   "cell_type": "code",
   "execution_count": null,
   "id": "d19210aa-3102-4641-adc2-335090b998df",
   "metadata": {},
   "outputs": [],
   "source": [
    "def calculator(x, y, islem):\n",
    "        \n",
    "    if islem == \"+\":\n",
    "        print(x + y)\n",
    "    \n",
    "    elif islem == \"-\":\n",
    "        print(x - y)\n",
    "    \n",
    "    elif islem == \"*\":\n",
    "        print(x * y)\n",
    "    \n",
    "    elif islem == \"/\":\n",
    "        print(x / y)\n",
    "        \n",
    "    else :\n",
    "        print(\"enter valid arguments \")\n",
    "             \n"
   ]
  },
  {
   "cell_type": "code",
   "execution_count": null,
   "id": "9a638105-fb43-49b9-9f1f-ac65f89107fa",
   "metadata": {},
   "outputs": [],
   "source": [
    "calculator(8, 6, \"*\")   # non type dir"
   ]
  },
  {
   "cell_type": "code",
   "execution_count": null,
   "id": "bd662657-0c2a-492a-a2d6-6ae9e667fd49",
   "metadata": {},
   "outputs": [],
   "source": [
    "type(calculator(8, 6, \"*\"))  "
   ]
  },
  {
   "cell_type": "code",
   "execution_count": null,
   "id": "78359bb3-6ac6-4be9-8b22-353c2fecb8ed",
   "metadata": {},
   "outputs": [],
   "source": [
    "def topla(x, y):\n",
    "    return x + y   #topla fonksiyonu x + y seklinde dondurulur\n"
   ]
  },
  {
   "cell_type": "code",
   "execution_count": null,
   "id": "94c720a1-d08f-45b3-85eb-7643d3cf87dc",
   "metadata": {},
   "outputs": [],
   "source": [
    "topla(3, 8)"
   ]
  },
  {
   "cell_type": "code",
   "execution_count": null,
   "id": "70f68f89-0e5d-46cf-ad8e-b0d54d63095c",
   "metadata": {},
   "outputs": [],
   "source": [
    "type(topla(3, 8))"
   ]
  },
  {
   "cell_type": "code",
   "execution_count": null,
   "id": "7ab5de43-c547-4766-8311-64376be71a46",
   "metadata": {},
   "outputs": [],
   "source": [
    "def boolean():\n",
    "    return True"
   ]
  },
  {
   "cell_type": "code",
   "execution_count": null,
   "id": "1667baa2-0662-47fb-9c00-053f956d2ed1",
   "metadata": {},
   "outputs": [],
   "source": [
    "if boolean():\n",
    "    print(\"calistim\")"
   ]
  },
  {
   "cell_type": "code",
   "execution_count": null,
   "id": "97087447-4c41-4034-87e5-180e2ebc040f",
   "metadata": {},
   "outputs": [],
   "source": [
    "def listem():\n",
    "    return [1, 2, 3, 4, 5]\n"
   ]
  },
  {
   "cell_type": "code",
   "execution_count": null,
   "id": "0380ef86-3278-4437-87db-85b4884632cc",
   "metadata": {},
   "outputs": [],
   "source": [
    "listem()"
   ]
  },
  {
   "cell_type": "code",
   "execution_count": null,
   "id": "1c650a9d-ce53-4ee5-8405-d954c38b9f2a",
   "metadata": {},
   "outputs": [],
   "source": [
    "type(listem())"
   ]
  },
  {
   "cell_type": "code",
   "execution_count": null,
   "id": "ee275f5c-9395-450e-8b5a-b4ca4396b7a7",
   "metadata": {},
   "outputs": [],
   "source": [
    "print(listem()[2])   # listem return ettigi sey list oldugu icin indexleyebiliriz"
   ]
  },
  {
   "cell_type": "code",
   "execution_count": null,
   "id": "e5d2c1f4-a200-4a0b-9499-ff50a4d40ed0",
   "metadata": {},
   "outputs": [],
   "source": [
    "def calculator2(x, y, islem):     # print yerine return yazarak fonksiyon cagirma olusturuyoruz\n",
    "        \n",
    "    if islem == \"+\":\n",
    "        return(x + y)\n",
    "    \n",
    "    elif islem == \"-\":\n",
    "        return(x - y)\n",
    "    \n",
    "    elif islem == \"*\":\n",
    "        return(x * y)\n",
    "    \n",
    "    elif islem == \"/\":\n",
    "        return(x / y)\n",
    "        \n",
    "    else :\n",
    "        return(\"enter valid arguments \")\n",
    "            "
   ]
  },
  {
   "cell_type": "code",
   "execution_count": null,
   "id": "2598ca41-cdb9-41e9-a715-383c377ddf57",
   "metadata": {},
   "outputs": [],
   "source": [
    "print(calculator2(3, 5, \"*\"))"
   ]
  },
  {
   "cell_type": "code",
   "execution_count": null,
   "id": "51abec5c-efda-4a13-bb21-d79169297cb8",
   "metadata": {},
   "outputs": [],
   "source": [
    "type(calculator2(3, 5, \"*\"))"
   ]
  },
  {
   "cell_type": "code",
   "execution_count": 25,
   "id": "311ae540-6568-4c15-a77c-f28205d0b548",
   "metadata": {},
   "outputs": [],
   "source": [
    "def absolute_value(num):\n",
    "   #\"\"\"This function returns the absolute value of the given number\"\"\"  # abs() fonksiyonu yerine kullanmak icin \n",
    "\n",
    "    if num >= 0 :\n",
    "        return num\n",
    "    else :\n",
    "        return -num"
   ]
  },
  {
   "cell_type": "code",
   "execution_count": 27,
   "id": "1395e27f-744f-40ca-bfaf-b8a41ed5abe0",
   "metadata": {},
   "outputs": [
    {
     "data": {
      "text/plain": [
       "22"
      ]
     },
     "execution_count": 27,
     "metadata": {},
     "output_type": "execute_result"
    }
   ],
   "source": [
    "absolute_value(-22)"
   ]
  },
  {
   "cell_type": "code",
   "execution_count": 28,
   "id": "a36313e8-e8d6-4a27-b90a-586721864622",
   "metadata": {},
   "outputs": [],
   "source": [
    "yeni_listem = [i ** 2 for i in range(6)]"
   ]
  },
  {
   "cell_type": "code",
   "execution_count": 29,
   "id": "626900bd-79aa-4717-9860-91e2c5756ec9",
   "metadata": {},
   "outputs": [
    {
     "data": {
      "text/plain": [
       "[0, 1, 4, 9, 16, 25]"
      ]
     },
     "execution_count": 29,
     "metadata": {},
     "output_type": "execute_result"
    }
   ],
   "source": [
    "yeni_listem\n"
   ]
  },
  {
   "cell_type": "code",
   "execution_count": 30,
   "id": "5e0ac078-94cb-4b64-ba94-fb220f314b0a",
   "metadata": {},
   "outputs": [],
   "source": [
    "generator = (i ** 2 for i in range(6)) "
   ]
  },
  {
   "cell_type": "code",
   "execution_count": 31,
   "id": "69d4e663-ab6e-4590-bc93-fd9b70c1762c",
   "metadata": {},
   "outputs": [
    {
     "data": {
      "text/plain": [
       "<generator object <genexpr> at 0x0000024B467F19E0>"
      ]
     },
     "execution_count": 31,
     "metadata": {},
     "output_type": "execute_result"
    }
   ],
   "source": [
    "generator"
   ]
  },
  {
   "cell_type": "code",
   "execution_count": 33,
   "id": "1fd1bf64-022c-434c-b013-de794df96e8a",
   "metadata": {},
   "outputs": [
    {
     "name": "stdout",
     "output_type": "stream",
     "text": [
      "0 1 4 9 16 25\n"
     ]
    }
   ],
   "source": [
    "print(*generator)    # funksiyon birkere kulanilinca ici bosaliyor. tekrar kullankam icin foksiyonu tekrar yazmaliyiz"
   ]
  },
  {
   "cell_type": "code",
   "execution_count": 36,
   "id": "c91dce83-602f-4df3-9919-f5387dfbbf1b",
   "metadata": {},
   "outputs": [
    {
     "data": {
      "text/plain": [
       "(0, 1, 4, 9, 16, 25)"
      ]
     },
     "execution_count": 36,
     "metadata": {},
     "output_type": "execute_result"
    }
   ],
   "source": [
    "generator = (i ** 2 for i in range(6))\n",
    "\n",
    "tuple(generator)"
   ]
  },
  {
   "cell_type": "code",
   "execution_count": 38,
   "id": "ad6f2f1f-337a-4603-ad76-0827cd2e4144",
   "metadata": {},
   "outputs": [
    {
     "data": {
      "text/plain": [
       "[0, 1, 4, 9, 16, 25]"
      ]
     },
     "execution_count": 38,
     "metadata": {},
     "output_type": "execute_result"
    }
   ],
   "source": [
    "generator = (i ** 2 for i in range(6))\n",
    "list(generator)"
   ]
  },
  {
   "cell_type": "code",
   "execution_count": 39,
   "id": "c1635a8f-beba-407d-8ecd-62d77e80018c",
   "metadata": {},
   "outputs": [],
   "source": [
    "generator = (i ** 2 for i in range(6))"
   ]
  },
  {
   "cell_type": "code",
   "execution_count": 40,
   "id": "83183579-c243-4e21-b7f4-3f29cc0f52bc",
   "metadata": {},
   "outputs": [
    {
     "name": "stdout",
     "output_type": "stream",
     "text": [
      "0\n"
     ]
    }
   ],
   "source": [
    "print(next(generator))"
   ]
  },
  {
   "cell_type": "code",
   "execution_count": 41,
   "id": "162d6224-5097-43f1-b1e6-cec11de383f4",
   "metadata": {},
   "outputs": [
    {
     "name": "stdout",
     "output_type": "stream",
     "text": [
      "1\n"
     ]
    }
   ],
   "source": [
    "print(next(generator))"
   ]
  },
  {
   "cell_type": "code",
   "execution_count": 42,
   "id": "760d7c6e-d1a5-46af-b37a-25321d989feb",
   "metadata": {},
   "outputs": [
    {
     "name": "stdout",
     "output_type": "stream",
     "text": [
      "4\n"
     ]
    }
   ],
   "source": [
    "print(next(generator))"
   ]
  },
  {
   "cell_type": "code",
   "execution_count": 43,
   "id": "b56f3bc2-6d35-43ab-8cb9-47b6e7594887",
   "metadata": {},
   "outputs": [
    {
     "name": "stdout",
     "output_type": "stream",
     "text": [
      "9\n"
     ]
    }
   ],
   "source": [
    "print(next(generator))"
   ]
  },
  {
   "cell_type": "code",
   "execution_count": 44,
   "id": "f475677f-9c37-428b-a727-72473f7504c3",
   "metadata": {},
   "outputs": [
    {
     "name": "stdout",
     "output_type": "stream",
     "text": [
      "16\n"
     ]
    }
   ],
   "source": [
    "print(next(generator))"
   ]
  },
  {
   "cell_type": "code",
   "execution_count": 45,
   "id": "7384ed86-815d-4df7-9ac4-1de5475418bb",
   "metadata": {},
   "outputs": [
    {
     "name": "stdout",
     "output_type": "stream",
     "text": [
      "25\n"
     ]
    }
   ],
   "source": [
    "print(next(generator))"
   ]
  },
  {
   "cell_type": "code",
   "execution_count": 46,
   "id": "a2000f53-11ec-4b97-b87d-51f2a71710cb",
   "metadata": {},
   "outputs": [
    {
     "ename": "StopIteration",
     "evalue": "",
     "output_type": "error",
     "traceback": [
      "\u001b[1;31m---------------------------------------------------------------------------\u001b[0m",
      "\u001b[1;31mStopIteration\u001b[0m                             Traceback (most recent call last)",
      "\u001b[1;32m<ipython-input-46-19919da3e769>\u001b[0m in \u001b[0;36m<module>\u001b[1;34m\u001b[0m\n\u001b[1;32m----> 1\u001b[1;33m \u001b[0mprint\u001b[0m\u001b[1;33m(\u001b[0m\u001b[0mnext\u001b[0m\u001b[1;33m(\u001b[0m\u001b[0mgenerator\u001b[0m\u001b[1;33m)\u001b[0m\u001b[1;33m)\u001b[0m\u001b[1;33m\u001b[0m\u001b[1;33m\u001b[0m\u001b[0m\n\u001b[0m",
      "\u001b[1;31mStopIteration\u001b[0m: "
     ]
    }
   ],
   "source": [
    "print(next(generator))   # elemani bittigi icin error verdi"
   ]
  },
  {
   "cell_type": "code",
   "execution_count": 1,
   "id": "629dfc3a-85b0-468d-8bf2-102f4212b232",
   "metadata": {},
   "outputs": [],
   "source": [
    "generator = (i ** 2 for i in range(6))"
   ]
  },
  {
   "cell_type": "code",
   "execution_count": 2,
   "id": "926bd3cf-8ee0-4f0a-9a74-34d6751a06dc",
   "metadata": {},
   "outputs": [
    {
     "name": "stdout",
     "output_type": "stream",
     "text": [
      "0\n"
     ]
    }
   ],
   "source": [
    "print(next(generator))"
   ]
  },
  {
   "cell_type": "code",
   "execution_count": 3,
   "id": "710a0634-bc46-4c6b-97e8-75fdc2680801",
   "metadata": {},
   "outputs": [
    {
     "name": "stdout",
     "output_type": "stream",
     "text": [
      "1\n"
     ]
    }
   ],
   "source": [
    "print(next(generator))"
   ]
  },
  {
   "cell_type": "code",
   "execution_count": 4,
   "id": "b67d02cc-5636-497e-874b-8c0614bbc732",
   "metadata": {},
   "outputs": [
    {
     "name": "stdout",
     "output_type": "stream",
     "text": [
      "4\n"
     ]
    }
   ],
   "source": [
    "print(next(generator))"
   ]
  },
  {
   "cell_type": "code",
   "execution_count": 5,
   "id": "c30c4a4e-a61c-4955-8c04-9f5f5a644cef",
   "metadata": {},
   "outputs": [
    {
     "name": "stdout",
     "output_type": "stream",
     "text": [
      "9 16 25\n"
     ]
    }
   ],
   "source": [
    "print(*generator)    # listeden kalanlari listeliyor *****************************************"
   ]
  },
  {
   "cell_type": "code",
   "execution_count": 1,
   "id": "15cbb2ae-843b-411c-bfad-552a1aa4e88c",
   "metadata": {},
   "outputs": [
    {
     "name": "stdout",
     "output_type": "stream",
     "text": [
      "Athens in Europe\n",
      "Ulaanbaatar in Asia\n",
      "Cape Town in Africa\n"
     ]
    }
   ],
   "source": [
    "def city(capital, continent='Europe'):\n",
    "    print(capital, 'in', continent)\n",
    "\n",
    "city('Athens')  # we don't have to pass any arguments into 'continent'\n",
    "city('Ulaanbaatar', continent='Asia')  # we can change the default value by kwargs\n",
    "city('Cape Town', 'Africa')  # we can change the default value by positional args."
   ]
  },
  {
   "cell_type": "code",
   "execution_count": 2,
   "id": "95a246d5-28fa-436f-976c-d21fb5e375ec",
   "metadata": {},
   "outputs": [
    {
     "name": "stdout",
     "output_type": "stream",
     "text": [
      "I want to get orange and banana\n"
     ]
    }
   ],
   "source": [
    "def fruiterer(fruit1, fruit2) :\n",
    "    print('I want to get', fruit1, 'and', fruit2)\n",
    "        \n",
    "fruiterer('orange', 'banana')"
   ]
  },
  {
   "cell_type": "code",
   "execution_count": 3,
   "id": "ff475464-2008-4034-9343-da8cdd5785cc",
   "metadata": {},
   "outputs": [
    {
     "name": "stdout",
     "output_type": "stream",
     "text": [
      "I want to get :\n",
      "- orange\n",
      "- banana\n",
      "- melon\n",
      "- ananas\n"
     ]
    }
   ],
   "source": [
    "def fruiterer(*fruit) :\n",
    "    print('I want to get :')\n",
    "    for i in fruit :\n",
    "        print('-', i)\n",
    "        \n",
    "fruiterer('orange', 'banana', 'melon', 'ananas')"
   ]
  },
  {
   "cell_type": "code",
   "execution_count": 4,
   "id": "3c91347a-e072-4624-9f49-29eb20adcbfd",
   "metadata": {},
   "outputs": [
    {
     "name": "stdout",
     "output_type": "stream",
     "text": [
      "Lions are Carnivores\n",
      "Bears are Omnivores\n",
      "Deers are Herbivores\n",
      "Human are Nomnivores\n"
     ]
    }
   ],
   "source": [
    "def animals(**kwargs):\n",
    "    for key, value in kwargs.items():\n",
    "        print(value, \"are\", key)\n",
    " \n",
    "animals(Carnivores=\"Lions\", Omnivores=\"Bears\", Herbivores=\"Deers\", Nomnivores=\"Human\")"
   ]
  },
  {
   "cell_type": "code",
   "execution_count": 2,
   "id": "c815e56c-9813-478a-bb55-f4c7649511e2",
   "metadata": {},
   "outputs": [
    {
     "name": "stdout",
     "output_type": "stream",
     "text": [
      "i love you\n"
     ]
    }
   ],
   "source": [
    "a = \"i\"\n",
    "b = \"love\"\n",
    "c = \"you\"\n",
    "\n",
    "def texter(text1, text2, text3):\n",
    "    print(text2, text3, text1)\n",
    "    \n",
    "texter(c, a, b)\n"
   ]
  },
  {
   "cell_type": "code",
   "execution_count": 6,
   "id": "89a28d26-aca6-4d82-8a13-37a19b1b7f6d",
   "metadata": {},
   "outputs": [
    {
     "name": "stdout",
     "output_type": "stream",
     "text": [
      "i love you\n"
     ]
    }
   ],
   "source": [
    "texter(text1 =\"you\", text2 = \"i\", text3 = \"love\")\n"
   ]
  },
  {
   "cell_type": "code",
   "execution_count": 7,
   "id": "41c754b5-223e-4097-a7bc-da804e993f2c",
   "metadata": {},
   "outputs": [],
   "source": [
    "def fonksiyon(x = \"ali\", y = 22):\n",
    "    print(x, y, \"yasindadir\")"
   ]
  },
  {
   "cell_type": "code",
   "execution_count": 8,
   "id": "6f92689d-7845-4dcc-8e83-440be507e133",
   "metadata": {},
   "outputs": [
    {
     "name": "stdout",
     "output_type": "stream",
     "text": [
      "ali 22 yasindadir\n"
     ]
    }
   ],
   "source": [
    "fonksiyon()"
   ]
  },
  {
   "cell_type": "code",
   "execution_count": 9,
   "id": "52018159-9c50-4a09-bd53-93e0f22b7489",
   "metadata": {},
   "outputs": [
    {
     "name": "stdout",
     "output_type": "stream",
     "text": [
      "deli 33 yasindadir\n"
     ]
    }
   ],
   "source": [
    "fonksiyon(x = \"deli\", y = 33)"
   ]
  },
  {
   "cell_type": "code",
   "execution_count": 11,
   "id": "d026680b-2da2-4261-a615-1c8b2c2485fb",
   "metadata": {},
   "outputs": [
    {
     "name": "stdout",
     "output_type": "stream",
     "text": [
      "deli 33 yasindadir\n"
     ]
    }
   ],
   "source": [
    "fonksiyon( y = 33, x = \"deli\")"
   ]
  },
  {
   "cell_type": "code",
   "execution_count": 10,
   "id": "cb7de3c1-0425-4cd7-a9a2-94c0a9cac614",
   "metadata": {},
   "outputs": [
    {
     "name": "stdout",
     "output_type": "stream",
     "text": [
      "veli 40 yasindadir\n"
     ]
    }
   ],
   "source": [
    "fonksiyon(\"veli\", 40)"
   ]
  },
  {
   "cell_type": "code",
   "execution_count": 12,
   "id": "46f5edc8-5c7e-4428-987d-566bc77fea8a",
   "metadata": {},
   "outputs": [
    {
     "name": "stdout",
     "output_type": "stream",
     "text": [
      "selin 22 yasindadir\n"
     ]
    }
   ],
   "source": [
    "fonksiyon(\"selin\")"
   ]
  },
  {
   "cell_type": "code",
   "execution_count": 14,
   "id": "82659981-1f2e-4554-a300-28d0f3eeebbe",
   "metadata": {},
   "outputs": [],
   "source": [
    "def parrot(voltage, state='a stiff', action='voom', type='Norwegian Blue'):\n",
    "    print(\"-- This parrot wouldn't\", action, end=' ')\n",
    "    print(\"if you put\", voltage, \"volts through it.\")\n",
    "    print(\"-- Lovely plumage, the\", type)\n",
    "    print(\"-- It's\", state, \"!\")\n",
    "    \n",
    "\n",
    "#parrot(1000)                                          # 1 positional argument\n",
    "#parrot(voltage=1000)                                  # 1 keyword argument\n",
    "#parrot(voltage=1000000, action='VOOOOOM')             # 2 keyword arguments\n",
    "#parrot(action='VOOOOOM', voltage=1000000)             # 2 keyword arguments \n",
    "#parrot('a million', 'bereft of life', 'jump')         # 3 positional arguments\n",
    "#parrot('a thousand', state='pushing up the daisies')  # 1 positional, 1 keyword   \n",
    "\n",
    "\n",
    "\n",
    "#parrot()                     ## gerekli bağımsız değişken eksik \n",
    "#parrot(voltage=5.0, 'dead')   # anahtar sözcük bağımsız değişkeninden sonra anahtar sözcük olmayan bağımsız değişken \n",
    "#parrot(110, voltage=220)      # # aynı bağımsız değişken için yinelenen değer \n",
    "#parrot(actor='John Cleese')   # bilinmeyen anahtar kelime argümanı"
   ]
  },
  {
   "cell_type": "code",
   "execution_count": 15,
   "id": "76992c43-d838-41c4-8c45-89ea758f7a77",
   "metadata": {},
   "outputs": [
    {
     "name": "stdout",
     "output_type": "stream",
     "text": [
      "-- This parrot wouldn't voom if you put 1000 volts through it.\n",
      "-- Lovely plumage, the Norwegian Blue\n",
      "-- It's a stiff !\n"
     ]
    }
   ],
   "source": [
    "parrot(1000) "
   ]
  },
  {
   "cell_type": "code",
   "execution_count": 16,
   "id": "8d725db4-1bf5-4838-9784-9b6e4a4851ba",
   "metadata": {},
   "outputs": [
    {
     "name": "stdout",
     "output_type": "stream",
     "text": [
      "-- This parrot wouldn't voom if you put 1000 volts through it.\n",
      "-- Lovely plumage, the Norwegian Blue\n",
      "-- It's a stiff !\n"
     ]
    }
   ],
   "source": [
    "parrot(voltage=1000)"
   ]
  },
  {
   "cell_type": "code",
   "execution_count": 17,
   "id": "49371728-f08d-4884-90ee-3cf6526c3805",
   "metadata": {},
   "outputs": [
    {
     "name": "stdout",
     "output_type": "stream",
     "text": [
      "-- This parrot wouldn't VOOOOOM if you put 1000000 volts through it.\n",
      "-- Lovely plumage, the Norwegian Blue\n",
      "-- It's a stiff !\n"
     ]
    }
   ],
   "source": [
    "parrot(voltage=1000000, action='VOOOOOM')"
   ]
  },
  {
   "cell_type": "code",
   "execution_count": 18,
   "id": "e0cdc2e5-5a69-402c-a352-1d37b0b3770c",
   "metadata": {},
   "outputs": [
    {
     "name": "stdout",
     "output_type": "stream",
     "text": [
      "-- This parrot wouldn't VOOOOOM if you put 1000000 volts through it.\n",
      "-- Lovely plumage, the Norwegian Blue\n",
      "-- It's a stiff !\n"
     ]
    }
   ],
   "source": [
    "parrot(action='VOOOOOM', voltage=1000000)\n"
   ]
  },
  {
   "cell_type": "code",
   "execution_count": 19,
   "id": "d0a25ccc-1b94-49c9-a006-89f6cda92057",
   "metadata": {},
   "outputs": [
    {
     "name": "stdout",
     "output_type": "stream",
     "text": [
      "-- This parrot wouldn't jump if you put a million volts through it.\n",
      "-- Lovely plumage, the Norwegian Blue\n",
      "-- It's bereft of life !\n"
     ]
    }
   ],
   "source": [
    "parrot('a million', 'bereft of life', 'jump')"
   ]
  },
  {
   "cell_type": "code",
   "execution_count": 20,
   "id": "c7651488-764f-4844-9305-47cfcf324c59",
   "metadata": {},
   "outputs": [
    {
     "name": "stdout",
     "output_type": "stream",
     "text": [
      "-- This parrot wouldn't voom if you put a thousand volts through it.\n",
      "-- Lovely plumage, the Norwegian Blue\n",
      "-- It's pushing up the daisies !\n"
     ]
    }
   ],
   "source": [
    "parrot('a thousand', state='pushing up the daisies')"
   ]
  },
  {
   "cell_type": "code",
   "execution_count": 22,
   "id": "40461ba4-5c35-44ed-88fd-1318d51e9f2d",
   "metadata": {},
   "outputs": [
    {
     "ename": "TypeError",
     "evalue": "parrot() missing 1 required positional argument: 'voltage'",
     "output_type": "error",
     "traceback": [
      "\u001b[1;31m---------------------------------------------------------------------------\u001b[0m",
      "\u001b[1;31mTypeError\u001b[0m                                 Traceback (most recent call last)",
      "\u001b[1;32m<ipython-input-22-1fa32faf15ff>\u001b[0m in \u001b[0;36m<module>\u001b[1;34m\u001b[0m\n\u001b[1;32m----> 1\u001b[1;33m \u001b[0mparrot\u001b[0m\u001b[1;33m(\u001b[0m\u001b[1;33m)\u001b[0m\u001b[1;33m\u001b[0m\u001b[1;33m\u001b[0m\u001b[0m\n\u001b[0m",
      "\u001b[1;31mTypeError\u001b[0m: parrot() missing 1 required positional argument: 'voltage'"
     ]
    }
   ],
   "source": [
    "parrot()  # voltage parametresinin on deger atamasi yok."
   ]
  },
  {
   "cell_type": "code",
   "execution_count": 23,
   "id": "5f797c11-63fe-4dfa-b792-93f835f57694",
   "metadata": {},
   "outputs": [
    {
     "ename": "SyntaxError",
     "evalue": "positional argument follows keyword argument (<ipython-input-23-d50f269134a5>, line 1)",
     "output_type": "error",
     "traceback": [
      "\u001b[1;36m  File \u001b[1;32m\"<ipython-input-23-d50f269134a5>\"\u001b[1;36m, line \u001b[1;32m1\u001b[0m\n\u001b[1;33m    parrot(voltage=5.0, 'dead')\u001b[0m\n\u001b[1;37m                        ^\u001b[0m\n\u001b[1;31mSyntaxError\u001b[0m\u001b[1;31m:\u001b[0m positional argument follows keyword argument\n"
     ]
    }
   ],
   "source": [
    "parrot(voltage=5.0, 'dead')"
   ]
  },
  {
   "cell_type": "code",
   "execution_count": 26,
   "id": "39d54e84-43e1-4fd5-9d75-d9f7b1595451",
   "metadata": {},
   "outputs": [
    {
     "ename": "SyntaxError",
     "evalue": "positional argument follows keyword argument (<ipython-input-26-9a4bf3049222>, line 1)",
     "output_type": "error",
     "traceback": [
      "\u001b[1;36m  File \u001b[1;32m\"<ipython-input-26-9a4bf3049222>\"\u001b[1;36m, line \u001b[1;32m1\u001b[0m\n\u001b[1;33m    parrot(state = \"ball\", \" a billion\")\u001b[0m\n\u001b[1;37m                           ^\u001b[0m\n\u001b[1;31mSyntaxError\u001b[0m\u001b[1;31m:\u001b[0m positional argument follows keyword argument\n"
     ]
    }
   ],
   "source": [
    "parrot(state = \"ball\", \" a billion\")"
   ]
  },
  {
   "cell_type": "code",
   "execution_count": 24,
   "id": "e650bf8a-585b-49d0-a15d-f219c4864c57",
   "metadata": {},
   "outputs": [
    {
     "ename": "TypeError",
     "evalue": "parrot() got multiple values for argument 'voltage'",
     "output_type": "error",
     "traceback": [
      "\u001b[1;31m---------------------------------------------------------------------------\u001b[0m",
      "\u001b[1;31mTypeError\u001b[0m                                 Traceback (most recent call last)",
      "\u001b[1;32m<ipython-input-24-c1313626062d>\u001b[0m in \u001b[0;36m<module>\u001b[1;34m\u001b[0m\n\u001b[1;32m----> 1\u001b[1;33m \u001b[0mparrot\u001b[0m\u001b[1;33m(\u001b[0m\u001b[1;36m110\u001b[0m\u001b[1;33m,\u001b[0m \u001b[0mvoltage\u001b[0m\u001b[1;33m=\u001b[0m\u001b[1;36m220\u001b[0m\u001b[1;33m)\u001b[0m\u001b[1;33m\u001b[0m\u001b[1;33m\u001b[0m\u001b[0m\n\u001b[0m",
      "\u001b[1;31mTypeError\u001b[0m: parrot() got multiple values for argument 'voltage'"
     ]
    }
   ],
   "source": [
    "parrot(110, voltage=220)    # voltaja iki kere atam yapmisiz"
   ]
  },
  {
   "cell_type": "code",
   "execution_count": 25,
   "id": "3afc20dc-74e6-419a-a868-0906ebfdb7a2",
   "metadata": {},
   "outputs": [
    {
     "ename": "TypeError",
     "evalue": "parrot() got an unexpected keyword argument 'actor'",
     "output_type": "error",
     "traceback": [
      "\u001b[1;31m---------------------------------------------------------------------------\u001b[0m",
      "\u001b[1;31mTypeError\u001b[0m                                 Traceback (most recent call last)",
      "\u001b[1;32m<ipython-input-25-65e0c6ab2f7f>\u001b[0m in \u001b[0;36m<module>\u001b[1;34m\u001b[0m\n\u001b[1;32m----> 1\u001b[1;33m \u001b[0mparrot\u001b[0m\u001b[1;33m(\u001b[0m\u001b[0mactor\u001b[0m\u001b[1;33m=\u001b[0m\u001b[1;34m'John Cleese'\u001b[0m\u001b[1;33m)\u001b[0m\u001b[1;33m\u001b[0m\u001b[1;33m\u001b[0m\u001b[0m\n\u001b[0m",
      "\u001b[1;31mTypeError\u001b[0m: parrot() got an unexpected keyword argument 'actor'"
     ]
    }
   ],
   "source": [
    "parrot(actor='John Cleese')  #actor diye bir patrametre yok"
   ]
  },
  {
   "cell_type": "code",
   "execution_count": 27,
   "id": "74e08a4f-9cd4-48e3-9e80-a1956bb8fe71",
   "metadata": {},
   "outputs": [
    {
     "ename": "SyntaxError",
     "evalue": "non-default argument follows default argument (<ipython-input-27-445e316320ed>, line 1)",
     "output_type": "error",
     "traceback": [
      "\u001b[1;36m  File \u001b[1;32m\"<ipython-input-27-445e316320ed>\"\u001b[1;36m, line \u001b[1;32m1\u001b[0m\n\u001b[1;33m    def argu(a, b = \"dunya\", c, d = \"saturn\"):\u001b[0m\n\u001b[1;37m             ^\u001b[0m\n\u001b[1;31mSyntaxError\u001b[0m\u001b[1;31m:\u001b[0m non-default argument follows default argument\n"
     ]
    }
   ],
   "source": [
    "def argu(a, b = \"dunya\", c, d = \"saturn\"):   # pzisyonel parametrelerden sonra on tanimli parametreler yazilabilir\n",
    "    print(a, b, c, d, sep = \"\\n\")\n",
    "         "
   ]
  },
  {
   "cell_type": "code",
   "execution_count": 28,
   "id": "b3eafbe8-0b97-49c2-b9af-ee8350902f1b",
   "metadata": {},
   "outputs": [],
   "source": [
    "def argu(a, c, b = \"dunya\", d = \"saturn\"):\n",
    "    print(a, b, c, d, sep = \"\\n\")\n",
    "    "
   ]
  },
  {
   "cell_type": "code",
   "execution_count": 29,
   "id": "7af9581d-af34-4829-b077-33f95006c41c",
   "metadata": {},
   "outputs": [
    {
     "ename": "TypeError",
     "evalue": "argu() missing 2 required positional arguments: 'a' and 'c'",
     "output_type": "error",
     "traceback": [
      "\u001b[1;31m---------------------------------------------------------------------------\u001b[0m",
      "\u001b[1;31mTypeError\u001b[0m                                 Traceback (most recent call last)",
      "\u001b[1;32m<ipython-input-29-2743aba80a34>\u001b[0m in \u001b[0;36m<module>\u001b[1;34m\u001b[0m\n\u001b[1;32m----> 1\u001b[1;33m \u001b[0margu\u001b[0m\u001b[1;33m(\u001b[0m\u001b[1;33m)\u001b[0m\u001b[1;33m\u001b[0m\u001b[1;33m\u001b[0m\u001b[0m\n\u001b[0m",
      "\u001b[1;31mTypeError\u001b[0m: argu() missing 2 required positional arguments: 'a' and 'c'"
     ]
    }
   ],
   "source": [
    "argu()"
   ]
  },
  {
   "cell_type": "code",
   "execution_count": 30,
   "id": "ff014950-0b76-4045-87fd-dbf501b239c6",
   "metadata": {},
   "outputs": [
    {
     "name": "stdout",
     "output_type": "stream",
     "text": [
      "uranus\n",
      "dunya\n",
      "jupiter\n",
      "saturn\n"
     ]
    }
   ],
   "source": [
    "argu(\"uranus\", \"jupiter\")"
   ]
  },
  {
   "cell_type": "code",
   "execution_count": 32,
   "id": "d599f82a-613b-4a74-a01a-eac845d31821",
   "metadata": {},
   "outputs": [
    {
     "name": "stdout",
     "output_type": "stream",
     "text": [
      "uranus\n",
      "dunya\n",
      "jupiter\n",
      "saturn\n"
     ]
    }
   ],
   "source": [
    "argu(a = \"uranus\", c = \"jupiter\")"
   ]
  },
  {
   "cell_type": "code",
   "execution_count": 34,
   "id": "64f7093e-569c-4e18-9afa-ca9b7e90772b",
   "metadata": {},
   "outputs": [
    {
     "ename": "SyntaxError",
     "evalue": "positional argument follows keyword argument (<ipython-input-34-805d4802e36f>, line 1)",
     "output_type": "error",
     "traceback": [
      "\u001b[1;36m  File \u001b[1;32m\"<ipython-input-34-805d4802e36f>\"\u001b[1;36m, line \u001b[1;32m1\u001b[0m\n\u001b[1;33m    argu(\"pluto\", c = \"venus\", \"mars\")\u001b[0m\n\u001b[1;37m                               ^\u001b[0m\n\u001b[1;31mSyntaxError\u001b[0m\u001b[1;31m:\u001b[0m positional argument follows keyword argument\n"
     ]
    }
   ],
   "source": [
    "argu(\"pluto\", c = \"venus\", \"mars\")"
   ]
  },
  {
   "cell_type": "code",
   "execution_count": 35,
   "id": "d20615d8-23e1-4d28-8b5f-f65740794df4",
   "metadata": {},
   "outputs": [
    {
     "ename": "TypeError",
     "evalue": "argu() got multiple values for argument 'c'",
     "output_type": "error",
     "traceback": [
      "\u001b[1;31m---------------------------------------------------------------------------\u001b[0m",
      "\u001b[1;31mTypeError\u001b[0m                                 Traceback (most recent call last)",
      "\u001b[1;32m<ipython-input-35-dab24aaf3c22>\u001b[0m in \u001b[0;36m<module>\u001b[1;34m\u001b[0m\n\u001b[1;32m----> 1\u001b[1;33m \u001b[0margu\u001b[0m\u001b[1;33m(\u001b[0m\u001b[1;34m\"pluto\"\u001b[0m\u001b[1;33m,\u001b[0m \u001b[1;34m\"mars\"\u001b[0m\u001b[1;33m,\u001b[0m \u001b[0mc\u001b[0m \u001b[1;33m=\u001b[0m \u001b[1;34m\"venus\"\u001b[0m\u001b[1;33m)\u001b[0m \u001b[1;31m# c ye iki kere atama yapmaya calisiyoruz\u001b[0m\u001b[1;33m\u001b[0m\u001b[1;33m\u001b[0m\u001b[0m\n\u001b[0m",
      "\u001b[1;31mTypeError\u001b[0m: argu() got multiple values for argument 'c'"
     ]
    }
   ],
   "source": [
    "argu(\"pluto\", \"mars\", c = \"venus\") # c ye iki kere atama yapmaya calisiyoruz"
   ]
  },
  {
   "cell_type": "code",
   "execution_count": 36,
   "id": "68e7294d-c450-4c8c-9867-5dca11351c09",
   "metadata": {},
   "outputs": [
    {
     "name": "stdout",
     "output_type": "stream",
     "text": [
      "dunya\n",
      "venus\n",
      "pluto\n",
      "gunes\n"
     ]
    }
   ],
   "source": [
    "argu(d = \"gunes\", a = \"dunya\", c = \"pluto\", b = \"venus\")"
   ]
  },
  {
   "cell_type": "code",
   "execution_count": null,
   "id": "c0551afe-2c8f-42a6-ba1a-69f0d4b20f9e",
   "metadata": {},
   "outputs": [],
   "source": [
    "def argu(a, c, b = \"dunya\", d = \"saturn\"):\n",
    "    print(a, b, c, d, sep = \"\\n\")"
   ]
  },
  {
   "cell_type": "code",
   "execution_count": 37,
   "id": "b7bd48ef-00ba-4213-83f8-cccb9fa102d0",
   "metadata": {},
   "outputs": [
    {
     "name": "stdout",
     "output_type": "stream",
     "text": [
      "gunes\n",
      "pluto\n",
      "dunya\n",
      "venus\n"
     ]
    }
   ],
   "source": [
    "argu(\"gunes\", \"dunya\", \"pluto\", \"venus\")"
   ]
  },
  {
   "cell_type": "code",
   "execution_count": null,
   "id": "4d901ac2-50e7-497a-b1a3-2c6cb111246b",
   "metadata": {},
   "outputs": [],
   "source": []
  }
 ],
 "metadata": {
  "kernelspec": {
   "display_name": "Python 3",
   "language": "python",
   "name": "python3"
  },
  "language_info": {
   "codemirror_mode": {
    "name": "ipython",
    "version": 3
   },
   "file_extension": ".py",
   "mimetype": "text/x-python",
   "name": "python",
   "nbconvert_exporter": "python",
   "pygments_lexer": "ipython3",
   "version": "3.8.8"
  }
 },
 "nbformat": 4,
 "nbformat_minor": 5
}
