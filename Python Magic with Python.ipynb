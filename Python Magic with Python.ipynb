{
 "cells": [
  {
   "cell_type": "markdown",
   "id": "98efa2f3-9586-4d9f-bcd8-c9f2fd71ead0",
   "metadata": {},
   "source": [
    "### While making projects, we need some ready-made codes that can help us to solve our daily life problems. This article has 5 Automation Scripts for your Python Projects that will solve your problems.\n",
    "### So bookmark it and let’s get started."
   ]
  },
  {
   "cell_type": "markdown",
   "id": "e43faaa7-6fe2-4cf3-b249-a49651b9051e",
   "metadata": {
    "tags": []
   },
   "source": [
    "## 1.) Convert Images to PDF\n",
    "### If you had a lot of images and looking for converting them into a single Pdf then this automation script will be handy for you."
   ]
  },
  {
   "cell_type": "markdown",
   "id": "5edb3f0a-ba34-4420-be32-3036198dbefe",
   "metadata": {},
   "source": [
    "### Method 1-"
   ]
  },
  {
   "cell_type": "code",
   "execution_count": 1,
   "id": "3e43e994-ace5-423c-9bca-ea242430cb79",
   "metadata": {},
   "outputs": [
    {
     "ename": "ModuleNotFoundError",
     "evalue": "No module named 'img2pdf'",
     "output_type": "error",
     "traceback": [
      "\u001b[1;31m---------------------------------------------------------------------------\u001b[0m",
      "\u001b[1;31mModuleNotFoundError\u001b[0m                       Traceback (most recent call last)",
      "\u001b[1;32m~\\AppData\\Local\\Temp/ipykernel_18428/3466104004.py\u001b[0m in \u001b[0;36m<module>\u001b[1;34m\u001b[0m\n\u001b[0;32m      1\u001b[0m \u001b[1;32mimport\u001b[0m \u001b[0mos\u001b[0m\u001b[1;33m\u001b[0m\u001b[1;33m\u001b[0m\u001b[0m\n\u001b[1;32m----> 2\u001b[1;33m \u001b[1;32mimport\u001b[0m \u001b[0mimg2pdf\u001b[0m\u001b[1;33m\u001b[0m\u001b[1;33m\u001b[0m\u001b[0m\n\u001b[0m\u001b[0;32m      3\u001b[0m \u001b[1;32mwith\u001b[0m \u001b[0mopen\u001b[0m\u001b[1;33m(\u001b[0m\u001b[1;34m\"out.pdf\"\u001b[0m\u001b[1;33m,\u001b[0m \u001b[1;34m\"wb\"\u001b[0m\u001b[1;33m)\u001b[0m \u001b[1;32mas\u001b[0m \u001b[0mfile\u001b[0m\u001b[1;33m:\u001b[0m\u001b[1;33m\u001b[0m\u001b[1;33m\u001b[0m\u001b[0m\n\u001b[0;32m      4\u001b[0m    \u001b[0mfile\u001b[0m\u001b[1;33m.\u001b[0m\u001b[0mwrite\u001b[0m\u001b[1;33m(\u001b[0m\u001b[0mimg2pdf\u001b[0m\u001b[1;33m.\u001b[0m\u001b[0mconvert\u001b[0m\u001b[1;33m(\u001b[0m\u001b[1;33m[\u001b[0m\u001b[0mi\u001b[0m \u001b[1;32mfor\u001b[0m \u001b[0mi\u001b[0m \u001b[1;32min\u001b[0m \u001b[0mos\u001b[0m\u001b[1;33m.\u001b[0m\u001b[0mlistdir\u001b[0m\u001b[1;33m(\u001b[0m\u001b[1;34m'Path of              image_Directory'\u001b[0m\u001b[1;33m)\u001b[0m \u001b[1;32mif\u001b[0m \u001b[0mi\u001b[0m\u001b[1;33m.\u001b[0m\u001b[0mendswith\u001b[0m\u001b[1;33m(\u001b[0m\u001b[1;34m\".jpg\"\u001b[0m\u001b[1;33m)\u001b[0m\u001b[1;33m]\u001b[0m\u001b[1;33m)\u001b[0m\u001b[1;33m)\u001b[0m\u001b[1;33m\u001b[0m\u001b[1;33m\u001b[0m\u001b[0m\n",
      "\u001b[1;31mModuleNotFoundError\u001b[0m: No module named 'img2pdf'"
     ]
    }
   ],
   "source": [
    "import os\n",
    "import img2pdf\n",
    "with open(\"out.pdf\", \"wb\") as file:\n",
    "   file.write(img2pdf.convert([i for i in os.listdir('Path of              image_Directory') if i.endswith(\".jpg\")]))"
   ]
  },
  {
   "cell_type": "markdown",
   "id": "38823187-d268-48c7-916b-ee6474eef1cc",
   "metadata": {},
   "source": [
    "### Method 2 -"
   ]
  },
  {
   "cell_type": "code",
   "execution_count": null,
   "id": "83d42997-3f7d-457e-9f72-9e968578b203",
   "metadata": {},
   "outputs": [],
   "source": [
    "from fpdf import FPDF\n",
    "Pdf = FPDF()\n",
    "list_of_images = [\"one.jpg\", \"second.jpg\",\"third.jpg\"]\n",
    "for i in list_of_images:\n",
    "   Pdf.add_page()\n",
    "   Pdf.image(i,x,y,w,h)\n",
    "   Pdf.output(\"out.pdf\", \"F\")"
   ]
  },
  {
   "cell_type": "markdown",
   "id": "a544258c-d73b-4ed4-8ea8-97383ebef028",
   "metadata": {},
   "source": [
    "## 2.) Convert PDF to CSV\n",
    "### Sometimes we need to convert our PDF data into CSV format, So for that kind of work, this Python script will be handy for you."
   ]
  },
  {
   "cell_type": "code",
   "execution_count": null,
   "id": "5d9fc2e9-446b-47cf-afdf-c4f72122a0af",
   "metadata": {},
   "outputs": [],
   "source": [
    "import tabula\n",
    "filename = input(\"Enter File Path: \")\n",
    "df = tabula.read_pdf(filename, encoding='utf-8', spreadsheet=True, pages='1')\n",
    "df.to_csv('out.csv')"
   ]
  },
  {
   "cell_type": "markdown",
   "id": "695b3ff2-8927-488f-b022-1f3b3ca2833e",
   "metadata": {},
   "source": [
    "## 3.) YT Video Downloader\n",
    "### A simple automation script to download Youtube videos. No need of any websites or apps, just use the below code to download any video."
   ]
  },
  {
   "cell_type": "code",
   "execution_count": null,
   "id": "4f794ee6-cc29-411b-8074-9d503d748745",
   "metadata": {},
   "outputs": [],
   "source": [
    "import pytube\n",
    "link = input('Enter The Youtube Video URL')\n",
    "dn = pytube.Youtube(link)\n",
    "dn.streams.first().download()\n",
    "print('Your Video Has Been Downloaded', link)"
   ]
  },
  {
   "cell_type": "markdown",
   "id": "086be2ad-56f0-4421-bb80-75aaf14763d5",
   "metadata": {},
   "source": [
    "## 4.) InstaDpViewer\n",
    "### This script will download the DP of any Instagram User. It uses module instaloader which takes username as input and downloads the DP as an output."
   ]
  },
  {
   "cell_type": "code",
   "execution_count": null,
   "id": "ff28ce63-885b-49c1-9ce5-db231d984cc6",
   "metadata": {},
   "outputs": [],
   "source": [
    "import instaloader\n",
    "il = instaloader.Instaloader()\n",
    "username = input(\"Enter Insta username \")\n",
    "il.download_profile(username , profile_pic_only=True)\n",
    "print(\"Your DP is Downloaded\")"
   ]
  },
  {
   "cell_type": "markdown",
   "id": "ab7ffc62-4985-4067-93a2-60a22cf827b8",
   "metadata": {},
   "source": [
    "## 5.) Text to Speech\n",
    "### It uses google Text to Speech API to convert your written Text to AI bot voice."
   ]
  },
  {
   "cell_type": "code",
   "execution_count": null,
   "id": "98d4b2fd-6450-4150-92f3-4ff9f607e163",
   "metadata": {},
   "outputs": [],
   "source": [
    "from pygame import mixer\n",
    "from gtts import gTTS\n",
    "def main():\n",
    "   tts = gTTS('Like This Article')\n",
    "   tts.save('output.mp3')\n",
    "   mixer.init()\n",
    "   mixer.music.load('output.mp3')\n",
    "   mixer.music.play()\n",
    "if __name__ == \"__main__\":\n",
    "   main()"
   ]
  },
  {
   "cell_type": "markdown",
   "id": "1559becc-9e42-475e-9aa8-da3f06b4cbfe",
   "metadata": {},
   "source": [
    "### Final Thoughts\n",
    "Well, here are some Awesome Automation Python Scripts that can be helpful for you to build your projects. I hope you find this article helpful and have had learn some new things. Share this article with your Pythoneer Friends.\n",
    "Happy Coding!"
   ]
  },
  {
   "cell_type": "code",
   "execution_count": null,
   "id": "a53ea40e-8a3b-4269-96f5-815550266cc7",
   "metadata": {},
   "outputs": [],
   "source": []
  },
  {
   "cell_type": "code",
   "execution_count": null,
   "id": "3b06ab58-b762-4f35-99cd-8d83ec1d001d",
   "metadata": {},
   "outputs": [],
   "source": []
  }
 ],
 "metadata": {
  "kernelspec": {
   "display_name": "Python 3 (ipykernel)",
   "language": "python",
   "name": "python3"
  },
  "language_info": {
   "codemirror_mode": {
    "name": "ipython",
    "version": 3
   },
   "file_extension": ".py",
   "mimetype": "text/x-python",
   "name": "python",
   "nbconvert_exporter": "python",
   "pygments_lexer": "ipython3",
   "version": "3.9.12"
  }
 },
 "nbformat": 4,
 "nbformat_minor": 5
}
