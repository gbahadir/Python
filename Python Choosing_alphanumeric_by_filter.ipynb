{
 "cells": [
  {
   "cell_type": "markdown",
   "id": "baaf5a80-ceed-40aa-b3ca-44bf44c4e7bb",
   "metadata": {},
   "source": [
    "## FILTER FONKSİYONU KULLANARAK STRING İÇİNDEN ALPHA VE NUMERİK KARAKTERLERİ AYIKLAMA"
   ]
  },
  {
   "cell_type": "markdown",
   "id": "571ec16a-e9df-4dad-b2f8-6a8bc1491593",
   "metadata": {},
   "source": [
    "### A. Bir string ifade içinden alpha karakterleri seçelim:\n"
   ]
  },
  {
   "cell_type": "code",
   "execution_count": 1,
   "id": "8052e9b5-15a3-4780-8497-8927637dfbfb",
   "metadata": {},
   "outputs": [],
   "source": [
    "a_string = \"!1a2;b3c?\"  #stringimiz bu olsun.\n",
    "alpha_filter = filter(str.isalpha, a_string)  "
   ]
  },
  {
   "cell_type": "markdown",
   "id": "cf2ad28d-69a4-4894-914d-89c3d4ad4faa",
   "metadata": {},
   "source": [
    "str.isalpha fonksiyonunu kullanarak stringimizi filtre fonksiyonundan geçirdik. Bu durumda alpha olan karakterler True döndürecek ve onlar seçilecektir."
   ]
  },
  {
   "cell_type": "code",
   "execution_count": 2,
   "id": "8799588f-6815-45bc-8572-f426119ed925",
   "metadata": {},
   "outputs": [],
   "source": [
    "alpha_string = \"\".join(alpha_filter)  # seçilen karakterleri join ederek yan yana getirdik.\n"
   ]
  },
  {
   "cell_type": "markdown",
   "id": "8cefb0f7-ca4f-4ae6-8ef5-1b70bead2c21",
   "metadata": {},
   "source": [
    "Bunu tabi ki şu şekilde de yazmak mümkün:"
   ]
  },
  {
   "cell_type": "code",
   "execution_count": 3,
   "id": "422afeb6-648e-4d8d-bed8-0fe467bbb100",
   "metadata": {},
   "outputs": [],
   "source": [
    "alpha_string = \"\".join(filter(str.isalpha, a_string))\n"
   ]
  },
  {
   "cell_type": "markdown",
   "id": "be1508ab-acdb-471e-8797-8e6cd90142c4",
   "metadata": {},
   "source": [
    "### B. Şimdi de bir string içindeki nümerik karakterleri seçelim:"
   ]
  },
  {
   "cell_type": "code",
   "execution_count": 4,
   "id": "535c9cf6-1bfb-4a35-8897-781604966e93",
   "metadata": {},
   "outputs": [
    {
     "data": {
      "text/plain": [
       "'123'"
      ]
     },
     "execution_count": 4,
     "metadata": {},
     "output_type": "execute_result"
    }
   ],
   "source": [
    "a_string = \"!1a2;b3c?\"\n",
    "numeric_filter = filter(str.isdigit, a_string)\n",
    "numeric_string = \"\".join(numeric_filter)  \n",
    "numeric_string\n"
   ]
  },
  {
   "cell_type": "markdown",
   "id": "d545534d-14b0-455a-985c-29caf59e2bd0",
   "metadata": {},
   "source": [
    "Pek tabi ki bunu da tek satırda yazabiliriz:"
   ]
  },
  {
   "cell_type": "code",
   "execution_count": 5,
   "id": "eead1b33-7649-4c01-b733-e8d75dbe93a2",
   "metadata": {},
   "outputs": [],
   "source": [
    "numeric_string = \"\".join(filter(str.isdigit, a_string))"
   ]
  },
  {
   "cell_type": "markdown",
   "id": "05aae6d0-db58-46b4-a3c3-af2fab65b2f9",
   "metadata": {},
   "source": [
    "### C. Şimdi de bunu Regex kullanarak yapalım:"
   ]
  },
  {
   "cell_type": "code",
   "execution_count": 6,
   "id": "863ed8e3-9c0f-45ff-8f93-4dc949da4c5c",
   "metadata": {},
   "outputs": [
    {
     "ename": "NameError",
     "evalue": "name 're' is not defined",
     "output_type": "error",
     "traceback": [
      "\u001b[1;31m---------------------------------------------------------------------------\u001b[0m",
      "\u001b[1;31mNameError\u001b[0m                                 Traceback (most recent call last)",
      "\u001b[1;32m~\\AppData\\Local\\Temp/ipykernel_19000/3555730113.py\u001b[0m in \u001b[0;36m<module>\u001b[1;34m\u001b[0m\n\u001b[0;32m      1\u001b[0m \u001b[0ma_string\u001b[0m \u001b[1;33m=\u001b[0m \u001b[1;34m\"!1a2;b3c?\"\u001b[0m\u001b[1;33m\u001b[0m\u001b[1;33m\u001b[0m\u001b[0m\n\u001b[1;32m----> 2\u001b[1;33m \u001b[0mnumeric_string\u001b[0m \u001b[1;33m=\u001b[0m \u001b[0mre\u001b[0m\u001b[1;33m.\u001b[0m\u001b[0msub\u001b[0m\u001b[1;33m(\u001b[0m\u001b[1;34m\"[^0-9]\"\u001b[0m\u001b[1;33m,\u001b[0m \u001b[1;34m\"\"\u001b[0m\u001b[1;33m,\u001b[0m \u001b[0ma_string\u001b[0m\u001b[1;33m)\u001b[0m\u001b[1;33m\u001b[0m\u001b[1;33m\u001b[0m\u001b[0m\n\u001b[0m\u001b[0;32m      3\u001b[0m \u001b[0mnumeric_string\u001b[0m\u001b[1;33m\u001b[0m\u001b[1;33m\u001b[0m\u001b[0m\n",
      "\u001b[1;31mNameError\u001b[0m: name 're' is not defined"
     ]
    }
   ],
   "source": [
    "a_string = \"!1a2;b3c?\"\n",
    "numeric_string = re.sub(\"[^0-9]\", \"\", a_string)\n",
    "numeric_string"
   ]
  },
  {
   "cell_type": "code",
   "execution_count": null,
   "id": "4749337c-183b-4085-a953-07504a8fa6c7",
   "metadata": {},
   "outputs": [],
   "source": []
  }
 ],
 "metadata": {
  "kernelspec": {
   "display_name": "Python 3 (ipykernel)",
   "language": "python",
   "name": "python3"
  },
  "language_info": {
   "codemirror_mode": {
    "name": "ipython",
    "version": 3
   },
   "file_extension": ".py",
   "mimetype": "text/x-python",
   "name": "python",
   "nbconvert_exporter": "python",
   "pygments_lexer": "ipython3",
   "version": "3.9.7"
  }
 },
 "nbformat": 4,
 "nbformat_minor": 5
}
