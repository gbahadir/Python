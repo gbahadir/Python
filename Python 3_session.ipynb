{
 "cells": [
  {
   "cell_type": "code",
   "execution_count": null,
   "metadata": {
    "colab": {
     "base_uri": "https://localhost:8080/"
    },
    "id": "Gmz9emZhek4K",
    "outputId": "00bba149-746f-4d19-c5c1-428bf12e56aa"
   },
   "outputs": [
    {
     "name": "stdout",
     "output_type": "stream",
     "text": [
      "1\n"
     ]
    }
   ],
   "source": [
    "##     Simple Operations   ####"
   ]
  },
  {
   "cell_type": "code",
   "execution_count": null,
   "metadata": {
    "colab": {
     "base_uri": "https://localhost:8080/"
    },
    "id": "MMgzBJZUBpPZ",
    "outputId": "858b28ed-9186-4a7e-fe97-031f21f0a510"
   },
   "outputs": [
    {
     "name": "stdout",
     "output_type": "stream",
     "text": [
      "(8+10j)\n",
      "2\n",
      "0\n",
      "1\n"
     ]
    }
   ],
   "source": [
    " ###    +  islemi stringlerde farkli integer da farkli davranir\n",
    "\n",
    "# print(\"computer\" + \"science\")     ## outputlar nedir ???\n",
    "\n",
    "# print(55 + 20)\n",
    "\n",
    "# print(\"55\" + \"20\")\n",
    "\n",
    "# print(33.5 + 5.5)         \n",
    "\n",
    "print((3+5j) + (5+5j))  #  Attention Complex toplama\n",
    "\n",
    "print(True + True)      # Attention boolean toplama\n",
    "\n",
    "print(False + False)\n",
    "\n",
    "print(False + True)\n",
    " "
   ]
  },
  {
   "cell_type": "code",
   "execution_count": null,
   "metadata": {
    "id": "h0VplCKHYBZd"
   },
   "outputs": [],
   "source": []
  },
  {
   "cell_type": "code",
   "execution_count": null,
   "metadata": {
    "colab": {
     "base_uri": "https://localhost:8080/",
     "height": 166
    },
    "id": "Kuh_Z7C0BpmK",
    "outputId": "b3f559d4-fb1b-448e-a06c-b0b853a2364d"
   },
   "outputs": [
    {
     "ename": "TypeError",
     "evalue": "ignored",
     "output_type": "error",
     "traceback": [
      "\u001b[0;31m---------------------------------------------------------------------------\u001b[0m",
      "\u001b[0;31mTypeError\u001b[0m                                 Traceback (most recent call last)",
      "\u001b[0;32m<ipython-input-85-9507ff4fb1c6>\u001b[0m in \u001b[0;36m<module>\u001b[0;34m()\u001b[0m\n\u001b[0;32m----> 1\u001b[0;31m \u001b[0mprint\u001b[0m\u001b[0;34m(\u001b[0m\u001b[0;32mNone\u001b[0m \u001b[0;34m+\u001b[0m \u001b[0;32mNone\u001b[0m\u001b[0;34m)\u001b[0m   \u001b[0;31m# output nedir ?\u001b[0m\u001b[0;34m\u001b[0m\u001b[0;34m\u001b[0m\u001b[0m\n\u001b[0m",
      "\u001b[0;31mTypeError\u001b[0m: unsupported operand type(s) for +: 'NoneType' and 'NoneType'"
     ]
    }
   ],
   "source": [
    "print(None + None)   # output nedir ?"
   ]
  },
  {
   "cell_type": "code",
   "execution_count": null,
   "metadata": {
    "colab": {
     "base_uri": "https://localhost:8080/"
    },
    "id": "8-knYmohBpor",
    "outputId": "9e5a77fc-4503-4fa7-b4cd-d71ab5c4a7db"
   },
   "outputs": [
    {
     "name": "stdout",
     "output_type": "stream",
     "text": [
      "None\n"
     ]
    }
   ],
   "source": [
    "#print(not True + not True)  # Output nedir?\n",
    "\n",
    "# Attention *****\n",
    "\n",
    "# not True ifadesini ayri bir parantez icinde yazmazsak hata verir\n",
    "\n",
    "#  print(not True + not True)\n",
    "\n",
    "\n",
    "ahmet = 55\n",
    "\n",
    "asli = 40\n",
    "\n",
    "markus = None\n",
    "\n",
    "ali = 30\n",
    "\n",
    "print(markus)"
   ]
  },
  {
   "cell_type": "code",
   "execution_count": null,
   "metadata": {
    "colab": {
     "base_uri": "https://localhost:8080/"
    },
    "id": "0yO9-3RBBpqU",
    "outputId": "f22e11de-e15d-4cfa-f1dc-9a4cbf3b35c2"
   },
   "outputs": [
    {
     "name": "stdout",
     "output_type": "stream",
     "text": [
      "2\n"
     ]
    }
   ],
   "source": [
    "print((not False) + (not False))  # output nedir?"
   ]
  },
  {
   "cell_type": "code",
   "execution_count": null,
   "metadata": {
    "colab": {
     "base_uri": "https://localhost:8080/",
     "height": 166
    },
    "id": "fboKyen-Bpr8",
    "outputId": "fad5d002-d5ef-4a03-ba06-bd8594ee22c3"
   },
   "outputs": [
    {
     "ename": "TypeError",
     "evalue": "ignored",
     "output_type": "error",
     "traceback": [
      "\u001b[0;31m---------------------------------------------------------------------------\u001b[0m",
      "\u001b[0;31mTypeError\u001b[0m                                 Traceback (most recent call last)",
      "\u001b[0;32m<ipython-input-104-068cfbb5a4c4>\u001b[0m in \u001b[0;36m<module>\u001b[0;34m()\u001b[0m\n\u001b[0;32m----> 1\u001b[0;31m \u001b[0mprint\u001b[0m\u001b[0;34m(\u001b[0m \u001b[0;34m(\u001b[0m\u001b[0;34m)\u001b[0m \u001b[0;34m+\u001b[0m \u001b[0;34m(\u001b[0m\u001b[0;34m)\u001b[0m \u001b[0;34m+\u001b[0m \u001b[0;34m(\u001b[0m\u001b[0;36m0\u001b[0m\u001b[0;34m)\u001b[0m \u001b[0;34m+\u001b[0m \u001b[0;34m(\u001b[0m\u001b[0;34m)\u001b[0m\u001b[0;34m)\u001b[0m  \u001b[0;31m# output nedir?\u001b[0m\u001b[0;34m\u001b[0m\u001b[0;34m\u001b[0m\u001b[0m\n\u001b[0m",
      "\u001b[0;31mTypeError\u001b[0m: can only concatenate tuple (not \"int\") to tuple"
     ]
    }
   ],
   "source": [
    "print( () + () + (0) + ())  # output nedir?"
   ]
  },
  {
   "cell_type": "code",
   "execution_count": null,
   "metadata": {
    "colab": {
     "base_uri": "https://localhost:8080/"
    },
    "id": "hPMtym42BpuD",
    "outputId": "2c4d1e33-71c6-46cb-f208-60b36d7b4237"
   },
   "outputs": [
    {
     "name": "stdout",
     "output_type": "stream",
     "text": [
      "    3\n",
      "3\n"
     ]
    }
   ],
   "source": [
    "print((\" \" + \" \" + \" \"), 3)  # output?\n",
    "print(3)                                    "
   ]
  },
  {
   "cell_type": "code",
   "execution_count": null,
   "metadata": {
    "colab": {
     "base_uri": "https://localhost:8080/"
    },
    "id": "0-5VyetxBpv4",
    "outputId": "af7cb480-5c30-458c-87fc-8a3b5975ff62"
   },
   "outputs": [
    {
     "name": "stdout",
     "output_type": "stream",
     "text": [
      "()()()\n"
     ]
    }
   ],
   "source": [
    "print(\"()\" + \"()\" + \"()\")  # output?"
   ]
  },
  {
   "cell_type": "code",
   "execution_count": null,
   "metadata": {
    "colab": {
     "base_uri": "https://localhost:8080/"
    },
    "id": "OS5e2OS9Bpyn",
    "outputId": "9e700dde-c706-4b68-f882-eb1c99a0bd75"
   },
   "outputs": [
    {
     "name": "stdout",
     "output_type": "stream",
     "text": [
      "(1, 2, 3, 4, 1, 2, 3, 4)\n"
     ]
    }
   ],
   "source": [
    "print((1,2,3,4) + (1,2,3,4) )      ####  Attention:  Iki tuple toplanirsa output ne olur??"
   ]
  },
  {
   "cell_type": "code",
   "execution_count": null,
   "metadata": {
    "colab": {
     "base_uri": "https://localhost:8080/",
     "height": 253
    },
    "id": "i_74xMTF-CV2",
    "outputId": "391ae234-d3d4-43c8-cc46-fb30989e089a"
   },
   "outputs": [
    {
     "name": "stdout",
     "output_type": "stream",
     "text": [
      "[1, 2, 3, 4, 6]\n"
     ]
    },
    {
     "ename": "AttributeError",
     "evalue": "ignored",
     "output_type": "error",
     "traceback": [
      "\u001b[0;31m---------------------------------------------------------------------------\u001b[0m",
      "\u001b[0;31mAttributeError\u001b[0m                            Traceback (most recent call last)",
      "\u001b[0;32m<ipython-input-129-29bfd5b00efe>\u001b[0m in \u001b[0;36m<module>\u001b[0;34m()\u001b[0m\n\u001b[1;32m      7\u001b[0m \u001b[0mmytuple\u001b[0m \u001b[0;34m=\u001b[0m \u001b[0;34m(\u001b[0m\u001b[0;36m1\u001b[0m\u001b[0;34m,\u001b[0m\u001b[0;36m2\u001b[0m\u001b[0;34m,\u001b[0m\u001b[0;36m3\u001b[0m\u001b[0;34m,\u001b[0m\u001b[0;36m4\u001b[0m\u001b[0;34m)\u001b[0m\u001b[0;34m\u001b[0m\u001b[0;34m\u001b[0m\u001b[0m\n\u001b[1;32m      8\u001b[0m \u001b[0;34m\u001b[0m\u001b[0m\n\u001b[0;32m----> 9\u001b[0;31m \u001b[0mmytuple\u001b[0m\u001b[0;34m.\u001b[0m\u001b[0mappend\u001b[0m\u001b[0;34m(\u001b[0m\u001b[0;36m6\u001b[0m\u001b[0;34m)\u001b[0m\u001b[0;34m\u001b[0m\u001b[0;34m\u001b[0m\u001b[0m\n\u001b[0m\u001b[1;32m     10\u001b[0m \u001b[0;34m\u001b[0m\u001b[0m\n\u001b[1;32m     11\u001b[0m \u001b[0mprint\u001b[0m\u001b[0;34m(\u001b[0m\u001b[0mmytuple\u001b[0m\u001b[0;34m)\u001b[0m\u001b[0;34m\u001b[0m\u001b[0;34m\u001b[0m\u001b[0m\n",
      "\u001b[0;31mAttributeError\u001b[0m: 'tuple' object has no attribute 'append'"
     ]
    }
   ],
   "source": [
    "liste = [1,2,3,4]\n",
    "\n",
    "liste.append(6)\n",
    "\n",
    "print(liste)\n",
    "\n",
    "mytuple = (1,2,3,4)\n",
    "\n",
    "mytuple.append(6)\n",
    "\n",
    "print(mytuple)"
   ]
  },
  {
   "cell_type": "code",
   "execution_count": null,
   "metadata": {
    "colab": {
     "base_uri": "https://localhost:8080/"
    },
    "id": "wSHksd2I-CY4",
    "outputId": "31e493b4-a376-4cf5-f8a6-096a575aaad6"
   },
   "outputs": [
    {
     "name": "stdout",
     "output_type": "stream",
     "text": [
      "[1, 2, 3, 4, 1, 2, 3, 4]\n"
     ]
    }
   ],
   "source": [
    "tuplem = (1,2,3,4)\n",
    "\n",
    "print([1,2,3,4] + list((1,2,3,4)))"
   ]
  },
  {
   "cell_type": "code",
   "execution_count": null,
   "metadata": {
    "colab": {
     "base_uri": "https://localhost:8080/"
    },
    "id": "e1yx4JnApRY2",
    "outputId": "ee9cf46a-9d4f-4d88-95c9-5c1277b94caa"
   },
   "outputs": [
    {
     "name": "stdout",
     "output_type": "stream",
     "text": [
      "[1, 2, 3, 4, 1, 2, 3, 4]\n"
     ]
    }
   ],
   "source": [
    "print([1,2,3,4] + [1,2,3,4] )      ####  Iki liste toplanirsa ?????"
   ]
  },
  {
   "cell_type": "code",
   "execution_count": null,
   "metadata": {
    "colab": {
     "base_uri": "https://localhost:8080/"
    },
    "id": "VprJMmZG9NA5",
    "outputId": "4c6ecf23-c0f7-44ce-a3aa-1cc4f25e4164"
   },
   "outputs": [
    {
     "name": "stdout",
     "output_type": "stream",
     "text": [
      "[1, 2, 3, 4, 1, 2, 3, 4, 1, 2, 3, 4]\n"
     ]
    }
   ],
   "source": [
    "# liste = list((1,2,3,4))\n",
    "\n",
    "print([1,2,3,4] + [1,2,3,4]  + list((1,2,3,4)))"
   ]
  },
  {
   "cell_type": "code",
   "execution_count": null,
   "metadata": {
    "colab": {
     "base_uri": "https://localhost:8080/",
     "height": 166
    },
    "id": "UIoza9Xqplju",
    "outputId": "c7fb7dfd-a882-4315-e5d5-b155be779093"
   },
   "outputs": [
    {
     "ename": "TypeError",
     "evalue": "ignored",
     "output_type": "error",
     "traceback": [
      "\u001b[0;31m---------------------------------------------------------------------------\u001b[0m",
      "\u001b[0;31mTypeError\u001b[0m                                 Traceback (most recent call last)",
      "\u001b[0;32m<ipython-input-134-8603b8171c1e>\u001b[0m in \u001b[0;36m<module>\u001b[0;34m()\u001b[0m\n\u001b[0;32m----> 1\u001b[0;31m \u001b[0mprint\u001b[0m\u001b[0;34m(\u001b[0m\u001b[0;34m{\u001b[0m\u001b[0;34m\"tarik\"\u001b[0m \u001b[0;34m:\u001b[0m \u001b[0;34m\"1,2,3,4\"\u001b[0m\u001b[0;34m}\u001b[0m \u001b[0;34m+\u001b[0m \u001b[0;34m{\u001b[0m\u001b[0;34m\"auto\"\u001b[0m \u001b[0;34m:\u001b[0m \u001b[0;34m\"mercedes\"\u001b[0m\u001b[0;34m}\u001b[0m\u001b[0;34m)\u001b[0m   \u001b[0;31m#   ???  iki dictionary toplanir mi??\u001b[0m\u001b[0;34m\u001b[0m\u001b[0;34m\u001b[0m\u001b[0m\n\u001b[0m",
      "\u001b[0;31mTypeError\u001b[0m: unsupported operand type(s) for +: 'dict' and 'dict'"
     ]
    }
   ],
   "source": [
    "print({\"tarik\" : \"1,2,3,4\"} + {\"auto\" : \"mercedes\"})   #   ???  iki dictionary toplanir mi??"
   ]
  },
  {
   "cell_type": "code",
   "execution_count": null,
   "metadata": {
    "colab": {
     "base_uri": "https://localhost:8080/"
    },
    "id": "RWymXl8kpll_",
    "outputId": "cf0943e8-0a88-4fe5-bec0-5ee6fcd356fe"
   },
   "outputs": [
    {
     "name": "stdout",
     "output_type": "stream",
     "text": [
      "[1, 'Gülcin', 2, 3, 4]\n"
     ]
    }
   ],
   "source": [
    "# a = {\"tarik\" : \"1,2,3,4\"}\n",
    "\n",
    "# a[\"araba\"] = \"bmw\"\n",
    "\n",
    "# print(a)\n",
    "\n",
    "# a.update({\"auto\" : \"mercedes\"})\n",
    "\n",
    "# print(a)\n",
    "\n",
    "# liste[1] = \"Hilal\"\n",
    "\n",
    "# print(liste)\n",
    "\n",
    "liste = [1,2,3,4]\n",
    "\n",
    "liste.insert(1, \"Gülcin\")         \n",
    "\n",
    "# liste[4] = \"hilal\"\n",
    "\n",
    "print(liste)\n",
    "\n",
    "# liste[3] = \"hilal\"\n",
    "\n",
    "# liste[2] = \"Gülizar\"                  # liste.insert(7, \"hilal\")\n",
    "\n",
    "\n",
    "\n"
   ]
  },
  {
   "cell_type": "code",
   "execution_count": null,
   "metadata": {
    "colab": {
     "base_uri": "https://localhost:8080/"
    },
    "id": "KHNWicnKG1tf",
    "outputId": "43de8b50-c18f-43c2-c5d0-11e979616b42"
   },
   "outputs": [
    {
     "name": "stdout",
     "output_type": "stream",
     "text": [
      "25\n",
      "28.0\n",
      "0\n",
      "1\n",
      "0\n",
      "(1+11j)\n"
     ]
    }
   ],
   "source": [
    "####      -  islemi    #######   substraction\n",
    "\n",
    "print(55 - 30)              # outputlar ???\n",
    "\n",
    "# print(\"55\" - \"20\")\n",
    "\n",
    "print(33.5 - 5.5)\n",
    "\n",
    "print(True - True)\n",
    "\n",
    "print(True - False)\n",
    "\n",
    "print(False - False)\n",
    "\n",
    "#print(None - None)\n",
    "\n",
    "print((7+6j) - (6-5j))  #  *** Attention"
   ]
  },
  {
   "cell_type": "code",
   "execution_count": null,
   "metadata": {
    "colab": {
     "base_uri": "https://localhost:8080/",
     "height": 166
    },
    "id": "hYBxYj11G1vw",
    "outputId": "f02ec27c-5fbb-45a4-e862-cf97130cf45a"
   },
   "outputs": [
    {
     "ename": "TypeError",
     "evalue": "ignored",
     "output_type": "error",
     "traceback": [
      "\u001b[0;31m---------------------------------------------------------------------------\u001b[0m",
      "\u001b[0;31mTypeError\u001b[0m                                 Traceback (most recent call last)",
      "\u001b[0;32m<ipython-input-187-a9e4eaa1febb>\u001b[0m in \u001b[0;36m<module>\u001b[0;34m()\u001b[0m\n\u001b[0;32m----> 1\u001b[0;31m \u001b[0mprint\u001b[0m\u001b[0;34m(\u001b[0m\u001b[0;34m(\u001b[0m\u001b[0;36m1\u001b[0m\u001b[0;34m,\u001b[0m\u001b[0;34m)\u001b[0m \u001b[0;34m-\u001b[0m \u001b[0;34m(\u001b[0m\u001b[0;36m1\u001b[0m\u001b[0;34m,\u001b[0m\u001b[0;34m)\u001b[0m\u001b[0;34m)\u001b[0m  \u001b[0;31m## bos tuple - bos tuple\u001b[0m\u001b[0;34m\u001b[0m\u001b[0;34m\u001b[0m\u001b[0m\n\u001b[0m",
      "\u001b[0;31mTypeError\u001b[0m: unsupported operand type(s) for -: 'tuple' and 'tuple'"
     ]
    }
   ],
   "source": [
    "print((1,) - (1,))  ## bos tuple - bos tuple"
   ]
  },
  {
   "cell_type": "code",
   "execution_count": null,
   "metadata": {
    "colab": {
     "base_uri": "https://localhost:8080/"
    },
    "id": "7kYoyUl3G1xm",
    "outputId": "923009c2-91e1-4593-d209-dc203a927a17"
   },
   "outputs": [
    {
     "name": "stdout",
     "output_type": "stream",
     "text": [
      "1\n"
     ]
    }
   ],
   "source": [
    "print((not False) - (not True) - (not True))  # output ???"
   ]
  },
  {
   "cell_type": "code",
   "execution_count": null,
   "metadata": {
    "id": "OLB2UmSSG1zd"
   },
   "outputs": [],
   "source": []
  },
  {
   "cell_type": "code",
   "execution_count": null,
   "metadata": {
    "id": "wcoqAFEgG11P"
   },
   "outputs": [],
   "source": [
    "###  *  multiplication (carpma)    #######"
   ]
  },
  {
   "cell_type": "code",
   "execution_count": null,
   "metadata": {
    "colab": {
     "base_uri": "https://localhost:8080/"
    },
    "id": "jhof6lmmG15Q",
    "outputId": "41636c68-07be-4e45-c587-a1a4da63c037"
   },
   "outputs": [
    {
     "name": "stdout",
     "output_type": "stream",
     "text": [
      "48\n",
      "12.25\n",
      "1\n",
      "0\n",
      "0\n",
      "55555\n",
      "()\n",
      "4\n"
     ]
    }
   ],
   "source": [
    "print(4 * 12)             ## outputlar ??\n",
    "\n",
    "#print(() * ())\n",
    "\n",
    "print(3.5 * 3.5)\n",
    "\n",
    "print(True * True)\n",
    "\n",
    "print(True * False)\n",
    "\n",
    "print(False * False)\n",
    "\n",
    "#print(\"5\" * \"5\")\n",
    "\n",
    "print(\"5\" * 5)  \n",
    "\n",
    "print(() * 6)\n",
    "\n",
    "print(\"\" * 6, 4, sep = \"\")"
   ]
  },
  {
   "cell_type": "code",
   "execution_count": null,
   "metadata": {
    "id": "SuQKssmvG195"
   },
   "outputs": [],
   "source": []
  },
  {
   "cell_type": "code",
   "execution_count": null,
   "metadata": {
    "id": "56iF4xXtJ9GK"
   },
   "outputs": [],
   "source": [
    "#########      /   Division(bölüm)                   ################\n",
    "\n",
    "# matematiksel olarak bölüm isleminin aynisini yapar.\n",
    "\n",
    "# sonuc tam bölünse de bölünmese de float cikti verir  "
   ]
  },
  {
   "cell_type": "code",
   "execution_count": null,
   "metadata": {
    "colab": {
     "base_uri": "https://localhost:8080/"
    },
    "id": "PLu1tGWoJ9If",
    "outputId": "ddb9520b-efd9-4a29-bec5-6d29b786153c"
   },
   "outputs": [
    {
     "name": "stdout",
     "output_type": "stream",
     "text": [
      "8.8\n",
      "11.0\n"
     ]
    }
   ],
   "source": [
    "print(44 / 5)          \n",
    "\n",
    "print(44 / 4)"
   ]
  },
  {
   "cell_type": "code",
   "execution_count": null,
   "metadata": {
    "colab": {
     "base_uri": "https://localhost:8080/"
    },
    "id": "dz_cVWKIJ9KM",
    "outputId": "e555e5e1-52ac-4d57-a2a5-b1fc662c00e1"
   },
   "outputs": [
    {
     "name": "stdout",
     "output_type": "stream",
     "text": [
      "1.0\n",
      "0.0\n",
      "8.571428571428571\n",
      "(0.8+0.2j)\n"
     ]
    }
   ],
   "source": [
    "#print(\"\" / \"\")                    #output lar nedir ??\n",
    "\n",
    "print(True / True)\n",
    "\n",
    "#print(True / False)\n",
    "\n",
    "print(False / True)\n",
    "\n",
    "print(30 / 3.5)\n",
    "\n",
    "print((3+5j) / (5+5j))   # Attention  "
   ]
  },
  {
   "cell_type": "code",
   "execution_count": null,
   "metadata": {
    "id": "TzAhks9vJ9NA"
   },
   "outputs": [],
   "source": []
  },
  {
   "cell_type": "code",
   "execution_count": null,
   "metadata": {
    "id": "bnr_rnwSJ9OU"
   },
   "outputs": [],
   "source": [
    "############        %  modulus  ###############  "
   ]
  },
  {
   "cell_type": "code",
   "execution_count": null,
   "metadata": {
    "colab": {
     "base_uri": "https://localhost:8080/"
    },
    "id": "FkiW1H9HJ9RP",
    "outputId": "486e7e7e-7e5e-4571-9e91-9d4ce7ccdaaa"
   },
   "outputs": [
    {
     "name": "stdout",
     "output_type": "stream",
     "text": [
      "15\n",
      "0.5\n",
      "0\n",
      "0\n",
      "1\n"
     ]
    }
   ],
   "source": [
    "#print(\"computer\" % \"science\")     ## outputlar nedir ???\n",
    "\n",
    "print(55 % 20)\n",
    "\n",
    "#print(\"55\" % \"20\")\n",
    "\n",
    "print(33.5 % 5.5)\n",
    "\n",
    "#print((3+5j) % (5+5j))  #  Attention Complex toplama\n",
    "\n",
    "print(True % True)      # Attention boolean toplama\n",
    "\n",
    "#print(False % False)\n",
    "                                  \n",
    "print(False % True)\n",
    " \n",
    "print(21 % 5)"
   ]
  },
  {
   "cell_type": "code",
   "execution_count": null,
   "metadata": {
    "colab": {
     "base_uri": "https://localhost:8080/"
    },
    "id": "47gVzHYYO-Wm",
    "outputId": "1651e906-86f8-485d-c8c5-d6fa886df43e"
   },
   "outputs": [
    {
     "name": "stdout",
     "output_type": "stream",
     "text": [
      "1\n"
     ]
    }
   ],
   "source": [
    "#  bir sayinin cift mi tek mi oldugunu bulma da modulus kullaniriz\n",
    "\n",
    "a =  987654321987654321\n",
    "\n",
    "print(a % 2)"
   ]
  },
  {
   "cell_type": "code",
   "execution_count": null,
   "metadata": {
    "colab": {
     "base_uri": "https://localhost:8080/"
    },
    "id": "J8PtKSzdr8PD",
    "outputId": "3006c043-ba98-47b0-f3bf-bc0d1d906797"
   },
   "outputs": [
    {
     "name": "stdout",
     "output_type": "stream",
     "text": [
      "1\n"
     ]
    }
   ],
   "source": [
    "a = 76582823563275632656355 ** 2    ####  output nedir ?\n",
    "\n",
    "print(a % 2)  "
   ]
  },
  {
   "cell_type": "code",
   "execution_count": null,
   "metadata": {
    "id": "_g8qeKDXvdKD"
   },
   "outputs": [],
   "source": []
  },
  {
   "cell_type": "code",
   "execution_count": null,
   "metadata": {
    "id": "UjAZiYK2O-Y6"
   },
   "outputs": [],
   "source": [
    "#########      **    Exponantiation      ###########\n",
    "\n",
    "# matematikteki üs islemidir"
   ]
  },
  {
   "cell_type": "code",
   "execution_count": null,
   "metadata": {
    "colab": {
     "base_uri": "https://localhost:8080/"
    },
    "id": "4TO5mZb7O-al",
    "outputId": "253247ff-76c2-4529-fa7a-ab10699b9aca"
   },
   "outputs": [
    {
     "name": "stdout",
     "output_type": "stream",
     "text": [
      "17\n"
     ]
    }
   ],
   "source": [
    "a = 2 ** 3\n",
    "\n",
    "b = 3 ** 2\n",
    "\n",
    "print(a + b)\n",
    "\n"
   ]
  },
  {
   "cell_type": "code",
   "execution_count": null,
   "metadata": {
    "colab": {
     "base_uri": "https://localhost:8080/"
    },
    "id": "8bde3BexG_71",
    "outputId": "355ce659-eab4-4a47-815b-3e395de3800c"
   },
   "outputs": [
    {
     "name": "stdout",
     "output_type": "stream",
     "text": [
      "8\n"
     ]
    }
   ],
   "source": []
  },
  {
   "cell_type": "code",
   "execution_count": null,
   "metadata": {
    "colab": {
     "base_uri": "https://localhost:8080/"
    },
    "id": "qqbZOZvQO-c5",
    "outputId": "d5bb7899-1194-42f8-9319-3d91d1406189"
   },
   "outputs": [
    {
     "name": "stdout",
     "output_type": "stream",
     "text": [
      "64158439152961731834506988525390625\n",
      "244200438.0780344\n",
      "(6.577331962562663+38.459395034718355j)\n",
      "1\n",
      "1\n",
      "0\n",
      "8.0\n"
     ]
    }
   ],
   "source": [
    "# print(\"computer\" ** \"science\")     ## outputlar nedir ???\n",
    "\n",
    "print(55 ** 20)           #### Attention:  eger kodunuz bir yada daha fazla space vererek baslarsa error verir\n",
    "\n",
    "#print(\"55\" ** \"20\")\n",
    "\n",
    "print(33.5 ** 5.5)                 \n",
    "\n",
    "print((3+5j) ** (5+5j))  #  Attention Complex toplama\n",
    "\n",
    "print(True ** True)      # Attention boolean toplama\n",
    "\n",
    "print(False ** False)\n",
    "\n",
    "print(False ** True)\n",
    "\n",
    "print(64 ** 0.5)                "
   ]
  },
  {
   "cell_type": "code",
   "execution_count": null,
   "metadata": {
    "colab": {
     "base_uri": "https://localhost:8080/",
     "height": 166
    },
    "id": "EK-kM_V_O-ef",
    "outputId": "1b73841c-7117-4b8e-a9b9-698ee43c7721"
   },
   "outputs": [
    {
     "ename": "TypeError",
     "evalue": "ignored",
     "output_type": "error",
     "traceback": [
      "\u001b[0;31m---------------------------------------------------------------------------\u001b[0m",
      "\u001b[0;31mTypeError\u001b[0m                                 Traceback (most recent call last)",
      "\u001b[0;32m<ipython-input-240-a3a2870709e4>\u001b[0m in \u001b[0;36m<module>\u001b[0;34m()\u001b[0m\n\u001b[0;32m----> 1\u001b[0;31m \u001b[0mprint\u001b[0m\u001b[0;34m(\u001b[0m\u001b[0;34m\"a\"\u001b[0m  \u001b[0;34m**\u001b[0m  \u001b[0;36m2\u001b[0m\u001b[0;34m)\u001b[0m        \u001b[0;31m# output?\u001b[0m\u001b[0;34m\u001b[0m\u001b[0;34m\u001b[0m\u001b[0m\n\u001b[0m",
      "\u001b[0;31mTypeError\u001b[0m: unsupported operand type(s) for ** or pow(): 'str' and 'int'"
     ]
    }
   ],
   "source": [
    "print(\"a\"  **  2)        # output? "
   ]
  },
  {
   "cell_type": "code",
   "execution_count": null,
   "metadata": {
    "id": "I5vfADpvO-ii"
   },
   "outputs": [],
   "source": []
  },
  {
   "cell_type": "code",
   "execution_count": null,
   "metadata": {
    "colab": {
     "base_uri": "https://localhost:8080/"
    },
    "id": "QH8J7t9CmfXc",
    "outputId": "6b1f5a37-36f8-4318-9c6b-9c8cc425468b"
   },
   "outputs": [
    {
     "name": "stdout",
     "output_type": "stream",
     "text": [
      "8.0\n"
     ]
    }
   ],
   "source": [
    "###########            //  floor divisioin (kat bölümü)        ##########   \n",
    "\n",
    "\n",
    "print(64 ** 0.5)\n"
   ]
  },
  {
   "cell_type": "code",
   "execution_count": null,
   "metadata": {
    "id": "wYPVc5JnmfZp"
   },
   "outputs": [],
   "source": [
    "4# Bölme isleminde bölüm kismini verir. Yani tam bölünen kismi   2 / 5        "
   ]
  },
  {
   "cell_type": "code",
   "execution_count": null,
   "metadata": {
    "colab": {
     "base_uri": "https://localhost:8080/"
    },
    "id": "6rCx2Njrmfbw",
    "outputId": "5224a4a4-8a32-4713-fadb-2d636d8a2766"
   },
   "outputs": [
    {
     "name": "stdout",
     "output_type": "stream",
     "text": [
      "6.0\n"
     ]
    }
   ],
   "source": [
    "a = 20.5 // 3  \n",
    "\n",
    "print(a)        ### Attention:  output /  isleminde oldugu gibi float degil integerdir"
   ]
  },
  {
   "cell_type": "code",
   "execution_count": null,
   "metadata": {
    "colab": {
     "base_uri": "https://localhost:8080/"
    },
    "id": "Ln2AsTj-mfdn",
    "outputId": "a05c1eb1-d20e-40f7-fd2f-706c1efa6de6"
   },
   "outputs": [
    {
     "name": "stdout",
     "output_type": "stream",
     "text": [
      "5.0\n"
     ]
    }
   ],
   "source": [
    "a = 22.5 // 4  ## Attention   output nedir  ?????  \n",
    "\n",
    "print(a)"
   ]
  },
  {
   "cell_type": "code",
   "execution_count": null,
   "metadata": {
    "colab": {
     "base_uri": "https://localhost:8080/"
    },
    "id": "QVJcK8Jqmffo",
    "outputId": "90f8d07d-6714-4f6a-95c3-e53cf73909a4"
   },
   "outputs": [
    {
     "name": "stdout",
     "output_type": "stream",
     "text": [
      "6.0\n"
     ]
    }
   ],
   "source": [
    "print(33.5 // 5.5)    ###  output??"
   ]
  },
  {
   "cell_type": "code",
   "execution_count": null,
   "metadata": {
    "colab": {
     "base_uri": "https://localhost:8080/"
    },
    "id": "Zel1o1OGmfhf",
    "outputId": "f76284d0-bbcf-47a2-d43b-b4b5acb55007"
   },
   "outputs": [
    {
     "name": "stdout",
     "output_type": "stream",
     "text": [
      "(1.3-0.3j)\n"
     ]
    }
   ],
   "source": [
    "print((8+5j) / (5+5j))     #  complex sayilar normal bölme isleminde bölünüyordu\n",
    "                             # Burada output ne olur???"
   ]
  },
  {
   "cell_type": "code",
   "execution_count": null,
   "metadata": {
    "colab": {
     "base_uri": "https://localhost:8080/",
     "height": 166
    },
    "id": "lToCHdr6mflK",
    "outputId": "a21b3635-20ad-44ae-f93d-165870146791"
   },
   "outputs": [
    {
     "ename": "TypeError",
     "evalue": "ignored",
     "output_type": "error",
     "traceback": [
      "\u001b[0;31m---------------------------------------------------------------------------\u001b[0m",
      "\u001b[0;31mTypeError\u001b[0m                                 Traceback (most recent call last)",
      "\u001b[0;32m<ipython-input-64-772e6d0dab25>\u001b[0m in \u001b[0;36m<module>\u001b[0;34m()\u001b[0m\n\u001b[0;32m----> 1\u001b[0;31m \u001b[0mprint\u001b[0m\u001b[0;34m(\u001b[0m\u001b[0;32mNone\u001b[0m \u001b[0;34m//\u001b[0m \u001b[0;32mTrue\u001b[0m\u001b[0;34m)\u001b[0m \u001b[0;31m## output ??\u001b[0m\u001b[0;34m\u001b[0m\u001b[0;34m\u001b[0m\u001b[0m\n\u001b[0m",
      "\u001b[0;31mTypeError\u001b[0m: unsupported operand type(s) for //: 'NoneType' and 'bool'"
     ]
    }
   ],
   "source": [
    "print(None // True) ## output ?? \n"
   ]
  },
  {
   "cell_type": "code",
   "execution_count": null,
   "metadata": {
    "colab": {
     "base_uri": "https://localhost:8080/"
    },
    "id": "AXG4umTBO-kf",
    "outputId": "32d0781d-ab9d-416d-b59d-3485ebc71f60"
   },
   "outputs": [
    {
     "name": "stdout",
     "output_type": "stream",
     "text": [
      "0\n"
     ]
    }
   ],
   "source": [
    "print(False ** True) ## output "
   ]
  },
  {
   "cell_type": "code",
   "execution_count": null,
   "metadata": {
    "id": "Q6YlzFG8oa0z"
   },
   "outputs": [],
   "source": []
  },
  {
   "cell_type": "code",
   "execution_count": null,
   "metadata": {
    "colab": {
     "base_uri": "https://localhost:8080/"
    },
    "id": "bhcWhsAzoa3R",
    "outputId": "bd8fac93-5c84-4577-d3a8-256bfd0769c0"
   },
   "outputs": [
    {
     "name": "stdout",
     "output_type": "stream",
     "text": [
      "4.0\n"
     ]
    }
   ],
   "source": [
    "### Python ile Karekök alma:\n",
    "\n",
    "#  a ** 0.5  = >>  a üzeri 1/2 demektir\n",
    "\n",
    "# a üzeri 1/2 karekök demektir  yani square root\n",
    " \n",
    "a = 2\n",
    "b = 8\n",
    "\n",
    "print((a * b) ** 0.5)"
   ]
  },
  {
   "cell_type": "code",
   "execution_count": null,
   "metadata": {
    "id": "JXpJ4Gbuoa44"
   },
   "outputs": [],
   "source": [
    "# -----------------------------------"
   ]
  },
  {
   "cell_type": "code",
   "execution_count": null,
   "metadata": {
    "id": "njo2T18Bw9ss"
   },
   "outputs": [],
   "source": [
    "#####  Degiskenin degerinin degistirilip Update edilmesi\n",
    "\n"
   ]
  },
  {
   "cell_type": "code",
   "execution_count": null,
   "metadata": {
    "colab": {
     "base_uri": "https://localhost:8080/"
    },
    "id": "BSwW3Wa_1XxH",
    "outputId": "9bfa6dd8-24a9-48e4-e1c6-791370d90641"
   },
   "outputs": [
    {
     "name": "stdout",
     "output_type": "stream",
     "text": [
      "[1, 6, 3, 2]\n"
     ]
    }
   ],
   "source": [
    "# Basit yöntem su sekildedir:\n",
    "\n",
    "# Degiskenin degerini degistiriyoruz ve tekrar kendisine esitliyoruz\n",
    "\n",
    "\n",
    "degisken = 10 \n",
    "\n",
    "# degisken = degisken + 5     # ==>> Bu islemin anlami sudur: Degiskeni 5 ile topla ve tekrar kendine esitle\n",
    "\n",
    "# degisken = degisken + 10 \n",
    "\n",
    "# degisken = degisken + 15\n",
    "\n",
    "# print(degisken)\n",
    "\n",
    "\n",
    "# liste = [0]\n",
    "\n",
    "# # liste.insert(1, \"araba\")\n",
    "\n",
    "# print(liste)\n",
    "\n",
    "\n",
    "liste = [1,6,3,2]\n",
    "\n",
    "# liste.sort()\n",
    "\n",
    "print(liste)\n",
    "\n",
    "\n"
   ]
  },
  {
   "cell_type": "code",
   "execution_count": null,
   "metadata": {
    "id": "rrAjphd_1YYy"
   },
   "outputs": [],
   "source": [
    "# kisa yöntem:   Bunu python da uygulamak zorunda degiliz iki yöntemi de kullanabiliriz\n",
    "#                Ama bu daha kisadir\n",
    "\n",
    "x += 3   ==>>   x = x + 3\n",
    "x -= 3   ==>>   x = x - 3\n",
    "x **= 3  ==>>   x = x ** 3\n",
    "\n",
    "# Bu yöntemi degiskenin degerini update etmek icin kullaniriz"
   ]
  },
  {
   "cell_type": "code",
   "execution_count": null,
   "metadata": {
    "colab": {
     "base_uri": "https://localhost:8080/"
    },
    "id": "yEf5YJF_w9u7",
    "outputId": "d6d31c59-7881-4779-d970-fd982ffad2cd"
   },
   "outputs": [
    {
     "name": "stdout",
     "output_type": "stream",
     "text": [
      "625.0\n"
     ]
    }
   ],
   "source": [
    "a = 5 \n",
    "\n",
    "a -= 5             ### Attention    output ???\n",
    "\n",
    "a += 5\n",
    "\n",
    "a *= 5\n",
    "\n",
    "a //= 5\n",
    "\n",
    "a **= 5\n",
    "\n",
    "a /= 5\n",
    "\n",
    "print(a)"
   ]
  },
  {
   "cell_type": "code",
   "execution_count": null,
   "metadata": {
    "colab": {
     "base_uri": "https://localhost:8080/"
    },
    "id": "rsDG7G4Nw9w0",
    "outputId": "db60cdc4-6a9b-4769-8ddd-a899f0c95ff8"
   },
   "outputs": [
    {
     "name": "stdout",
     "output_type": "stream",
     "text": [
      "650\n",
      "500\n"
     ]
    }
   ],
   "source": [
    "# clarusway Ögrenci sayisi\n",
    "\n",
    "ögsayi = 300  # Eylül ayi     # output nedir??\n",
    "\n",
    "ögsayi += 15  # Ekim Ayi\n",
    "\n",
    "ögsayi += 15  # kasim ayi\n",
    "\n",
    "ögsayi -= 5   # aralik \n",
    "\n",
    "ögsayi *= 2   # ocak \n",
    "\n",
    "print(ögsayi)\n",
    "\n",
    "\n",
    "\n",
    "        \n",
    "\n",
    "\n",
    "\n",
    "\n",
    "\n"
   ]
  },
  {
   "cell_type": "code",
   "execution_count": null,
   "metadata": {
    "colab": {
     "base_uri": "https://localhost:8080/"
    },
    "id": "SI4tC9zUw9ys",
    "outputId": "a7709b5a-a512-4908-bcc2-7f683e1d3b59"
   },
   "outputs": [
    {
     "name": "stdout",
     "output_type": "stream",
     "text": [
      "165\n"
     ]
    }
   ],
   "source": [
    "a = 10        # output ???\n",
    "\n",
    "b = 15\n",
    "\n",
    "a *= b  #150      #  ==>>>  a = a + b ye esittir  \n",
    "\n",
    "a += b  # 150 + 15\n",
    "\n",
    "print(a)"
   ]
  },
  {
   "cell_type": "code",
   "execution_count": null,
   "metadata": {
    "id": "NPNF1pGVw92D"
   },
   "outputs": [],
   "source": [
    "# -------------------------------------"
   ]
  },
  {
   "cell_type": "code",
   "execution_count": null,
   "metadata": {
    "colab": {
     "base_uri": "https://localhost:8080/"
    },
    "id": "BX0eY792w930",
    "outputId": "c630c19c-23d6-4752-de9f-c843fbba10e9"
   },
   "outputs": [
    {
     "name": "stdout",
     "output_type": "stream",
     "text": [
      "(6.123233995736766e-16+10j)\n"
     ]
    }
   ],
   "source": [
    " # Python da islem öncelik sirasi\n",
    "\n",
    " # 1:   ()\n",
    " # 2:   **\n",
    " # 3:   -4  (unary minus)\n",
    " # 4:    * /\n",
    " # 5:    + -           \"()\" \"**\" \"-5\" \"* /\" \"+ -\"\n",
    "\n",
    "\n",
    " #print((2 + 5) * 2 - (5))       \n",
    "\n",
    "#  x = 100    \n",
    "\n",
    "#  y = -(x)\n",
    "\n",
    "#  print(y)\n",
    "\n",
    "print((-100) ** 0.5)  "
   ]
  },
  {
   "cell_type": "code",
   "execution_count": null,
   "metadata": {
    "colab": {
     "base_uri": "https://localhost:8080/"
    },
    "id": "rHwIag3R3_lX",
    "outputId": "8c2a168b-8182-4bc1-8701-211eba36cebb"
   },
   "outputs": [
    {
     "name": "stdout",
     "output_type": "stream",
     "text": [
      "4.0\n"
     ]
    }
   ],
   "source": [
    "a = (1 + 3) ** (2 ** (1 * 2 / 2) / 2) # * ve / yanyana ise soldan saga\n",
    "\n",
    "print(a)                    #  output ?????"
   ]
  },
  {
   "cell_type": "code",
   "execution_count": null,
   "metadata": {
    "id": "BBh886tByliX"
   },
   "outputs": [],
   "source": [
    "print(     ) "
   ]
  },
  {
   "cell_type": "code",
   "execution_count": null,
   "metadata": {
    "id": "5WF02kPM3_pI"
   },
   "outputs": [],
   "source": [
    "####         hipotenüs hesaplama \n",
    "\n",
    "#            c ** 2 = (a ** 2) + (b ** 2) \n",
    "\n",
    "#            c = ((a ** 2) + (b ** 2)) ** 0.5 \n",
    "\n",
    "a = 3 \n",
    "\n",
    "b = 4\n",
    "\n",
    "c = ?"
   ]
  },
  {
   "cell_type": "code",
   "execution_count": null,
   "metadata": {
    "id": "eAqV87sS3_r3"
   },
   "outputs": [],
   "source": []
  },
  {
   "cell_type": "code",
   "execution_count": null,
   "metadata": {
    "id": "nKJTQWjX3_uB"
   },
   "outputs": [],
   "source": [
    "#########  print()  func ile  Operationlar   ######## "
   ]
  },
  {
   "cell_type": "code",
   "execution_count": null,
   "metadata": {
    "colab": {
     "base_uri": "https://localhost:8080/"
    },
    "id": "cjAJweNh3_wX",
    "outputId": "8a6c89dc-d321-44b0-e372-06375a51e828"
   },
   "outputs": [
    {
     "name": "stdout",
     "output_type": "stream",
     "text": [
      "ali*ali*ali\n",
      "\n"
     ]
    }
   ],
   "source": [
    "###  sep = \"\"   ve  end = \"\"  parametreleri\n",
    "\n",
    "# colab de print()  yapip beklersek aciklama gelir\n",
    "\n",
    "print(\"ali\",  sep = \"*\") \n",
    "\n",
    "print()"
   ]
  },
  {
   "cell_type": "code",
   "execution_count": null,
   "metadata": {
    "colab": {
     "base_uri": "https://localhost:8080/"
    },
    "id": "ODdANwpUw955",
    "outputId": "25f7e29e-194c-4ad8-80f8-0ed71819eef7"
   },
   "outputs": [
    {
     "name": "stdout",
     "output_type": "stream",
     "text": [
      "ahmetali3.14aliFalseali33aliNoneali(3+5j)\n"
     ]
    }
   ],
   "source": [
    "# sep = \"\"  virgüllerle ayrilmis value larin arasinda islem yapar\n",
    "\n",
    "print(\"ahmet\", 3.14, False, 33, None, 3+5j, sep = \"ali\")"
   ]
  },
  {
   "cell_type": "code",
   "execution_count": null,
   "metadata": {
    "colab": {
     "base_uri": "https://localhost:8080/"
    },
    "id": "g-olABsMO50U",
    "outputId": "971dd794-a6a4-4cf5-80ce-c9ddd40653aa"
   },
   "outputs": [
    {
     "name": "stdout",
     "output_type": "stream",
     "text": [
      "t a r i k\n"
     ]
    }
   ],
   "source": [
    "# TASK \n",
    "\n",
    "# x = 22                # output su sekilde olsun\n",
    "# y = 9                 # x > y > z > k > l > m     \n",
    "# z = 8\n",
    "# k = 32\n",
    "# l = 6\n",
    "# m = 19 \n",
    "\n",
    "# liste = [x, y, z, k, l ,m]\n",
    "\n",
    "# liste.sort()\n",
    "\n",
    "# print(*liste, sep = \" > \") #####  Attention Attention\n",
    "\n",
    "liste = \"tarik\"\n",
    "\n",
    "print(*list(liste))"
   ]
  },
  {
   "cell_type": "code",
   "execution_count": null,
   "metadata": {
    "colab": {
     "base_uri": "https://localhost:8080/"
    },
    "id": "RR96eus-72tX",
    "outputId": "6491f4e8-35bd-46c4-b0a8-c8a587df21b0"
   },
   "outputs": [
    {
     "name": "stdout",
     "output_type": "stream",
     "text": [
      "ahmet 3.14 False 33 None (3+5j)\n",
      " b\n"
     ]
    }
   ],
   "source": [
    "# end = \"\"  calisma prensibi\n",
    "\n",
    "# default olarak en son yazdirdigi degerden sonra enter yapar\n",
    "\n",
    "print(\"ahmet\", 3.14, False, 33, None, 3+5j)\n",
    "print(\" b\")                                 ## >> burada 6. value dan sonra enter yapar"
   ]
  },
  {
   "cell_type": "code",
   "execution_count": null,
   "metadata": {
    "colab": {
     "base_uri": "https://localhost:8080/"
    },
    "id": "17jrPBGu72vv",
    "outputId": "a24137cd-d32c-4dc3-c1d5-477824111ec7"
   },
   "outputs": [
    {
     "name": "stdout",
     "output_type": "stream",
     "text": [
      "ankara\n",
      "istanbul\n",
      "malatya\n",
      "eskisehir\n"
     ]
    }
   ],
   "source": [
    "a = \"ankara\"      # ??? TASK hepsini yanyana cikti alalim\n",
    "b = \"istanbul\"\n",
    "c = \"malatya\"\n",
    "d = \"eskisehir\"\n",
    "\n",
    "\n",
    "print(a, b, c, d, sep = \"\\n\")"
   ]
  },
  {
   "cell_type": "code",
   "execution_count": null,
   "metadata": {
    "colab": {
     "base_uri": "https://localhost:8080/"
    },
    "id": "f0fDoqjk720L",
    "outputId": "192e5c64-17a2-457d-ee72-d6ea7e678bf2"
   },
   "outputs": [
    {
     "name": "stdout",
     "output_type": "stream",
     "text": [
      "('ankara', '\\n', 'istanbul', '\\n', 'malatya', '\\n', 'eskisehir', '\\n', 'izmir')\n"
     ]
    }
   ],
   "source": [
    "# Task :  output da her deger arasinda iki satir bosluk olsun\n",
    "\n",
    "a = (\"ankara\", \"\\n\", \"istanbul\", \"\\n\", \"malatya\", \"\\n\", \"eskisehir\", \"\\n\", \"izmir\") ## bu sekilde calisir  mi??\n",
    "\n",
    "                                               \n",
    "print(a)\n",
    "\n"
   ]
  },
  {
   "cell_type": "code",
   "execution_count": null,
   "metadata": {
    "colab": {
     "base_uri": "https://localhost:8080/",
     "height": 132
    },
    "id": "lRu5pivKUlZi",
    "outputId": "66f18c8a-2866-4c51-d5fe-892529751254"
   },
   "outputs": [
    {
     "ename": "SyntaxError",
     "evalue": "ignored",
     "output_type": "error",
     "traceback": [
      "\u001b[0;36m  File \u001b[0;32m\"<ipython-input-169-9eb6950899aa>\"\u001b[0;36m, line \u001b[0;32m3\u001b[0m\n\u001b[0;31m    b = (a, end = \"\\n\")                        #####  Soru: end = \"\" veya sep = \"\"  operatörü bu sekilde\u001b[0m\n\u001b[0m                ^\u001b[0m\n\u001b[0;31mSyntaxError\u001b[0m\u001b[0;31m:\u001b[0m invalid syntax\n"
     ]
    }
   ],
   "source": [
    "a = (\"ankara\", \"istanbul\", \"malatya\", \"eskisehir\", \"izmir\") \n",
    "\n",
    "b = (a, end = \"\\n\")                        #####  Soru: end = \"\" veya sep = \"\"  operatörü bu sekilde \n",
    "                                           # ayri  bir degisken atayarak calisir mi?                         \n",
    "print(b)"
   ]
  },
  {
   "cell_type": "code",
   "execution_count": null,
   "metadata": {
    "colab": {
     "base_uri": "https://localhost:8080/"
    },
    "id": "UudBZFohUKXF",
    "outputId": "d87dcb7a-be08-4fed-a56f-e4a0a05581ac"
   },
   "outputs": [
    {
     "name": "stdout",
     "output_type": "stream",
     "text": [
      "\n",
      " 1000 \n",
      " 2000 \n",
      " 3000\n"
     ]
    }
   ],
   "source": [
    "#  print icerisinde end = \"\" yazmanin haricinde diger bir yöntem\n",
    "\n",
    "a,b,c = 1000, 2000, 3000 \n",
    "print(\"\\n\",a,\"\\n\",b,\"\\n\",c)"
   ]
  },
  {
   "cell_type": "code",
   "execution_count": null,
   "metadata": {
    "colab": {
     "base_uri": "https://localhost:8080/"
    },
    "id": "MqCw9Tac722I",
    "outputId": "2cd7e970-f35d-4001-aa1d-b178fd37c50b"
   },
   "outputs": [
    {
     "name": "stdout",
     "output_type": "stream",
     "text": [
      "I bought 6 kg. of apple this morning\n",
      "I bought 6 kg. of apple this morning\n",
      "I bought 6 kg. of apple this morning\n",
      "I bought 6 kg. of apple this morning\n",
      "ankara istanbul\n",
      "ankaraistanbul\n"
     ]
    }
   ],
   "source": [
    "text1 = \"I bought\"\n",
    "text2 = \"kg. of apple this morning\"\n",
    "amount = 6\n",
    "text3 = text1 + \" \" + str(amount) + \" \" + text2 \n",
    "print(text1, amount, text2)\n",
    "print(\"I bought\", 6, \"kg. of apple this morning\")   # virgülle ayri olanlar herbiri birer value \n",
    "print(\"I bought \" + \"6 \" + \"kg. of apple this morning\")   # burada ise virül yok hepsi tek bir value olarak yazdirilir\n",
    "print(text3)                                              # virgül yoksa tek deger oldugu anlasilir(concatanate)\n",
    "\n",
    "\n",
    "# Peki bunun saglamasini nasil yapabiliriz???\n",
    "\n",
    "print(\"ankara\", \"istanbul\")\n",
    "\n",
    "print(\"ankara\" + \"istanbul\")\n",
    "\n",
    "# bu iki komutu calistirdigimizda , ile yazilan komutun ciktisinda value lar arasinda bosluk olur.\n",
    "# yani python bu ikisinin farkli degerler oldugunu algilar\n",
    "\n",
    "# ayrica buradan su anlasilir. arasinda , olan her bir deger arasinda default olarak bir sep vardir\n",
    "# ve bu sep in default u da bir space dir. (biz degistirmedigimiz sürece)\n",
    "\n",
    "\n",
    "## Attention: + islemi gibi islemler print function icerisinde bir operasyondur"
   ]
  },
  {
   "cell_type": "code",
   "execution_count": null,
   "metadata": {
    "colab": {
     "base_uri": "https://localhost:8080/"
    },
    "id": "EvE99GIo7231",
    "outputId": "ab3e4085-6944-43ee-ef0a-2541925529d9"
   },
   "outputs": [
    {
     "name": "stdout",
     "output_type": "stream",
     "text": [
      "AliVeli \n"
     ]
    }
   ],
   "source": [
    "#### Attention\n",
    "# Bu komutta \"Ali\" ve \"Veli\" yi *******  seperatörü ile ayirabilir miyiz???\n",
    "\n",
    "print(\"Ali\" + \"Veli \", sep = \" ***** \") \n"
   ]
  },
  {
   "cell_type": "code",
   "execution_count": null,
   "metadata": {
    "id": "m0if5WjD726D"
   },
   "outputs": [],
   "source": []
  },
  {
   "cell_type": "code",
   "execution_count": null,
   "metadata": {
    "id": "49RxAVHE73Db"
   },
   "outputs": [],
   "source": [
    "#############            Escape Sequence             ##############"
   ]
  },
  {
   "cell_type": "code",
   "execution_count": null,
   "metadata": {
    "id": "MiErqgu7w978"
   },
   "outputs": [],
   "source": [
    "\n",
    "#  \\   karakteri ya birseyi özel hale getirir yada özelligini sifirlar\n",
    "\n",
    "# Cok sayida escape sequence vardir ancak 3 tanesi bizim icin önemlidir\n",
    "\n",
    "# 1:  \\n \n",
    "\n",
    "# 2:  \\t\n",
    "\n",
    "# 3:  \\b      "
   ]
  },
  {
   "cell_type": "code",
   "execution_count": null,
   "metadata": {
    "id": "iYRILsE0rTZs"
   },
   "outputs": [],
   "source": [
    "# Escape sequencelar \"\" string icerisinde ve\n",
    "\n",
    "# print()  function icerisinde özellik kazanir. Bu ne anlama gelir ????"
   ]
  },
  {
   "cell_type": "code",
   "execution_count": null,
   "metadata": {
    "colab": {
     "base_uri": "https://localhost:8080/"
    },
    "id": "UUEMvdb8rTgT",
    "outputId": "019c0454-95f8-4c4f-be74-ab087fef4bf4"
   },
   "outputs": [
    {
     "name": "stdout",
     "output_type": "stream",
     "text": [
      "('ali', '\\n', 'ahmet', '\\t', 'mehmet', 'fatma', '\\x08')\n"
     ]
    }
   ],
   "source": [
    "# Example:                             ### Output nedir ???\n",
    "\n",
    "string = \"ali\", \"\\n\", \"ahmet\", \"\\t\", \"mehmet\", \"fatma\", \"\\b\"\n",
    "\n",
    "print(string)"
   ]
  },
  {
   "cell_type": "code",
   "execution_count": null,
   "metadata": {
    "colab": {
     "base_uri": "https://localhost:8080/"
    },
    "id": "A7God8mYrTiR",
    "outputId": "b04d1f2b-1626-4462-af35-26097dafb50f"
   },
   "outputs": [
    {
     "name": "stdout",
     "output_type": "stream",
     "text": [
      "ali \n",
      " ahmet \t mehmet\n"
     ]
    }
   ],
   "source": [
    "print(\"ali\", \"\\n\", \"ahmet\", \"\\t\", \"mehmet\")   # Output nedir??       "
   ]
  },
  {
   "cell_type": "code",
   "execution_count": null,
   "metadata": {
    "colab": {
     "base_uri": "https://localhost:8080/"
    },
    "id": "PEmH0RgPBp1v",
    "outputId": "1851479d-a62e-45bc-e388-dea5c956d987"
   },
   "outputs": [
    {
     "name": "stdout",
     "output_type": "stream",
     "text": [
      "123\n",
      "456\n",
      "789\n"
     ]
    }
   ],
   "source": [
    "print(123,\"\\n\", 456,\"\\n\", 789, sep = \"\")    ##  integerlarda da kullanabilir miyiz? "
   ]
  },
  {
   "cell_type": "code",
   "execution_count": null,
   "metadata": {
    "colab": {
     "base_uri": "https://localhost:8080/"
    },
    "id": "0tUhSkUTe2G7",
    "outputId": "313a8028-532c-44f5-e6d2-333f44be9bf0"
   },
   "outputs": [
    {
     "name": "stdout",
     "output_type": "stream",
     "text": [
      "['computer', '\\n', 'science']\n"
     ]
    }
   ],
   "source": [
    "# output ?????\n",
    "\n",
    "print([\"computer\", \"\\n\", \"science\"])             "
   ]
  },
  {
   "cell_type": "code",
   "execution_count": null,
   "metadata": {
    "colab": {
     "base_uri": "https://localhost:8080/"
    },
    "id": "fhU8A_Lvj3j-",
    "outputId": "303c06cc-2322-4379-e67c-c3c0a3853b16"
   },
   "outputs": [
    {
     "name": "stdout",
     "output_type": "stream",
     "text": [
      "['computer', '\\n', 'science']\n",
      "['bilgisayar', '\\n', 'bilimi']\n"
     ]
    }
   ],
   "source": [
    "## what is the output??\n",
    "\n",
    "print([\"computer\", \"\\n\", \"science\"], \"\\n\", [\"bilgisayar\", \"\\n\", \"bilimi\"], sep = \"\")"
   ]
  },
  {
   "cell_type": "code",
   "execution_count": null,
   "metadata": {
    "colab": {
     "base_uri": "https://localhost:8080/"
    },
    "id": "9lqjS2y4tNgF",
    "outputId": "260f2bf1-82c8-4d14-b1f9-d8818cf619a4"
   },
   "outputs": [
    {
     "name": "stdout",
     "output_type": "stream",
     "text": [
      "(['computer', '\\n', 'science'],) <class 'tuple'>\n"
     ]
    }
   ],
   "source": [
    "liste =  [\"computer\", \"\\n\", \"science\"],\n",
    "\n",
    "print(liste, type(liste))                       ##### output ???\n",
    "\n",
    "# print([\"computer\", \"\\n\", \"science\"], \"\\n\", [\"bilgisayar\", \"\\n\", \"bilimi\"])\n",
    "\n",
    "\n",
    "# a = 1, 2, 3 \n",
    "\n",
    "# print(type(a))"
   ]
  },
  {
   "cell_type": "code",
   "execution_count": null,
   "metadata": {
    "colab": {
     "base_uri": "https://localhost:8080/"
    },
    "id": "8Fog1QnOGXU7",
    "outputId": "b13679d6-b629-4a65-85b6-f186d858dd83"
   },
   "outputs": [
    {
     "name": "stdout",
     "output_type": "stream",
     "text": [
      "<class 'tuple'>\n"
     ]
    }
   ],
   "source": [
    "a  = 1,  \n",
    "\n",
    "print(type(a))  "
   ]
  },
  {
   "cell_type": "code",
   "execution_count": null,
   "metadata": {
    "colab": {
     "base_uri": "https://localhost:8080/"
    },
    "id": "dVSERh0gGXkS",
    "outputId": "4a19fc29-ee29-4c79-ffd7-eac293aec6ce"
   },
   "outputs": [
    {
     "name": "stdout",
     "output_type": "stream",
     "text": [
      "['computer', '\\n', 'science'] ['bilgisayar', '\\n', 'bilimi']\n"
     ]
    }
   ],
   "source": [
    "print([\"computer\", \"\\n\", \"science\"] , [\"bilgisayar\", \"\\n\", \"bilimi\"])"
   ]
  },
  {
   "cell_type": "code",
   "execution_count": null,
   "metadata": {
    "colab": {
     "base_uri": "https://localhost:8080/"
    },
    "id": "RdFcmbm6tNo4",
    "outputId": "7dea68f5-a212-4f3a-c5a3-d628eb3c181a"
   },
   "outputs": [
    {
     "name": "stdout",
     "output_type": "stream",
     "text": [
      "(1, 2, 3, '\\n', 4, 5)\n"
     ]
    }
   ],
   "source": [
    "##  output ??\n",
    "tuplem = (1,2,3,\"\\n\", 4,5)\n",
    "\n",
    "print(tuplem)"
   ]
  },
  {
   "cell_type": "code",
   "execution_count": null,
   "metadata": {
    "colab": {
     "base_uri": "https://localhost:8080/"
    },
    "id": "-XIkfyPutNsv",
    "outputId": "139e2a6b-d7f2-47de-de07-5c60550e0d0a"
   },
   "outputs": [
    {
     "name": "stdout",
     "output_type": "stream",
     "text": [
      "(1, 2, 3, '\\n', 4, 5)\n"
     ]
    }
   ],
   "source": [
    "print((1, 2, 3,\"\\n\", 4, 5))  #### Attention"
   ]
  },
  {
   "cell_type": "code",
   "execution_count": null,
   "metadata": {
    "colab": {
     "base_uri": "https://localhost:8080/"
    },
    "id": "H6SGwE8CtNw6",
    "outputId": "394581eb-d403-47c8-f29a-98bf8ce3dc6c"
   },
   "outputs": [
    {
     "name": "stdout",
     "output_type": "stream",
     "text": [
      "{'a': 'b'} \n",
      " {'x': 'y'} \n",
      " {'c': 'd'}\n"
     ]
    }
   ],
   "source": [
    "##  dict   output?\n",
    "\n",
    "print({\"a\" : \"b\"}, \"\\n\", {\"x\" : \"y\"}, \"\\n\", {\"c\" : \"d\"})"
   ]
  },
  {
   "cell_type": "code",
   "execution_count": null,
   "metadata": {
    "colab": {
     "base_uri": "https://localhost:8080/",
     "height": 201
    },
    "id": "X9omLE3svsPG",
    "outputId": "7cbda5c7-84bf-47f6-b17c-0261676940ac"
   },
   "outputs": [
    {
     "ename": "TypeError",
     "evalue": "ignored",
     "output_type": "error",
     "traceback": [
      "\u001b[0;31m---------------------------------------------------------------------------\u001b[0m",
      "\u001b[0;31mTypeError\u001b[0m                                 Traceback (most recent call last)",
      "\u001b[0;32m<ipython-input-201-8f34373f8759>\u001b[0m in \u001b[0;36m<module>\u001b[0;34m()\u001b[0m\n\u001b[1;32m      1\u001b[0m \u001b[0;31m## output ???\u001b[0m\u001b[0;34m\u001b[0m\u001b[0;34m\u001b[0m\u001b[0;34m\u001b[0m\u001b[0m\n\u001b[1;32m      2\u001b[0m \u001b[0;34m\u001b[0m\u001b[0m\n\u001b[0;32m----> 3\u001b[0;31m \u001b[0mprint\u001b[0m\u001b[0;34m(\u001b[0m\u001b[0;34m{\u001b[0m\u001b[0;34m\"a\"\u001b[0m \u001b[0;34m:\u001b[0m \u001b[0;34m\"\\n\"\u001b[0m\u001b[0;34m}\u001b[0m \u001b[0;34m+\u001b[0m \u001b[0;34m{\u001b[0m\u001b[0;34m\"x\"\u001b[0m \u001b[0;34m:\u001b[0m \u001b[0;34m\"\\n\"\u001b[0m\u001b[0;34m}\u001b[0m \u001b[0;34m+\u001b[0m  \u001b[0;34m{\u001b[0m\u001b[0;34m\"c\"\u001b[0m \u001b[0;34m:\u001b[0m \u001b[0;34m\"d\"\u001b[0m\u001b[0;34m}\u001b[0m\u001b[0;34m)\u001b[0m\u001b[0;34m\u001b[0m\u001b[0;34m\u001b[0m\u001b[0m\n\u001b[0m",
      "\u001b[0;31mTypeError\u001b[0m: unsupported operand type(s) for +: 'dict' and 'dict'"
     ]
    }
   ],
   "source": [
    "## output ???\n",
    "\n",
    "print({\"a\" : \"\\n\"} + {\"x\" : \"\\n\"} +  {\"c\" : \"d\"})"
   ]
  },
  {
   "cell_type": "code",
   "execution_count": null,
   "metadata": {
    "colab": {
     "base_uri": "https://localhost:8080/"
    },
    "id": "A--IhQWAvsRQ",
    "outputId": "92a41215-1e3c-4219-a309-d1b9e6b8694a"
   },
   "outputs": [
    {
     "name": "stdout",
     "output_type": "stream",
     "text": [
      "Ali\"nin Arabasi\n"
     ]
    }
   ],
   "source": [
    "# output ??\n",
    "\n",
    "a = 'Ali\"nin Arabasi'                \n",
    "\n",
    "print(a)"
   ]
  },
  {
   "cell_type": "code",
   "execution_count": null,
   "metadata": {
    "id": "7N7EdkAMvsTa"
   },
   "outputs": [],
   "source": [
    "a = 'Ali\\'nin Arabasi'    #### Attention yukaridaki string ile bu string arasindaki renk farki!!!\n",
    "\n",
    "print(a)                  ###  burada \\  kullandigimizda python oradan escape eder yani kacar özelligi almis oluruz\n",
    "\n",
    "                          ##   ' tek tirnak isareti artik normal stringin bir parcasi haline geldi\n",
    "\n",
    "#### Attention::  \"\\n\", \"\\t\" ve \"\\b\" sadece print function icerisinde kullanilir\n",
    "\n",
    "###                Yani degiskene atanmis string de calismazlar\n",
    "\n",
    "###               Ama \\  degiskene atanmis string de de calisir"
   ]
  },
  {
   "cell_type": "code",
   "execution_count": null,
   "metadata": {
    "colab": {
     "base_uri": "https://localhost:8080/"
    },
    "id": "Ktjrt_E2vsVz",
    "outputId": "875588c6-d74c-4506-91d0-0cac05ac8bf2"
   },
   "outputs": [
    {
     "name": "stdout",
     "output_type": "stream",
     "text": [
      "Ali 'nin Arabasi\n"
     ]
    }
   ],
   "source": [
    "## output ??  \n",
    "\n",
    "a = 'Ali  \\\\\\\\\\\\\\\\\\\\'nin Arabasi'\n",
    "\n",
    "print(a)"
   ]
  },
  {
   "cell_type": "code",
   "execution_count": null,
   "metadata": {
    "colab": {
     "base_uri": "https://localhost:8080/"
    },
    "id": "bxrTyhLSvsXR",
    "outputId": "12e86bb1-d111-486c-da8b-01bf87ea2ac2"
   },
   "outputs": [
    {
     "name": "stdout",
     "output_type": "stream",
     "text": [
      "Ali \\\\\\\\\\   'nin Arabasi\n"
     ]
    }
   ],
   "source": [
    "a = 'Ali \\\\\\\\\\\\\\\\\\\\\\  \\'nin Arabasi'   #### Attention\n",
    "\n",
    "print(a)                             #### output da kac adet \\ olur  ????"
   ]
  },
  {
   "cell_type": "code",
   "execution_count": null,
   "metadata": {
    "id": "B264teesvsa7"
   },
   "outputs": [],
   "source": [
    "a = 'Ali \\\\\\\\\\\\\\\\\\\\\\'nin Arabasi'    #### Attention \n",
    "\n",
    "print(a)                     ###  Tüm \\ isaretleri birlesik olunca toplamda tek sayi olursa hata vermez\n",
    "                              ###  cift sayi olursa hata verir"
   ]
  },
  {
   "cell_type": "code",
   "execution_count": null,
   "metadata": {
    "colab": {
     "base_uri": "https://localhost:8080/"
    },
    "id": "enJiwPJiywfY",
    "outputId": "c318b355-fc4f-4dab-dc14-091541f7ed7a"
   },
   "outputs": [
    {
     "name": "stdout",
     "output_type": "stream",
     "text": [
      "anne'\n",
      "in cantasi\n"
     ]
    }
   ],
   "source": [
    "##  output ??\n",
    "\n",
    "print(\"anne'\\nin cantasi\")               "
   ]
  },
  {
   "cell_type": "code",
   "execution_count": null,
   "metadata": {
    "colab": {
     "base_uri": "https://localhost:8080/"
    },
    "id": "QOMBK8snywhx",
    "outputId": "a7a727b5-b62b-4b8c-cbfb-0d01990dfb5a"
   },
   "outputs": [
    {
     "name": "stdout",
     "output_type": "stream",
     "text": [
      "anne'\\nin cantasi\n"
     ]
    }
   ],
   "source": [
    "## output? \n",
    "\n",
    "print(\"anne'\\\\nin cantasi\")"
   ]
  },
  {
   "cell_type": "code",
   "execution_count": null,
   "metadata": {
    "colab": {
     "base_uri": "https://localhost:8080/"
    },
    "id": "APu7zmvaywj4",
    "outputId": "ea8c0033-ce04-417a-8da6-7582504ac1fc"
   },
   "outputs": [
    {
     "name": "stdout",
     "output_type": "stream",
     "text": [
      "C:\\north pole\n",
      "oise_penguins.txt\n",
      "-----------\n",
      "first\tsecond\tthird\n"
     ]
    }
   ],
   "source": [
    "## Dersteki Example:\n",
    "\n",
    "print('C:\\\\north pole\\noise_penguins.txt')\n",
    "\n",
    "print('-----------')\n",
    "\n",
    "print('first', 'second', 'third', sep = '\\t')"
   ]
  },
  {
   "cell_type": "code",
   "execution_count": null,
   "metadata": {
    "colab": {
     "base_uri": "https://localhost:8080/"
    },
    "id": "CAA4QsWVywle",
    "outputId": "ac9fa22d-bc6a-4150-efcd-38fa57966ff3"
   },
   "outputs": [
    {
     "name": "stdout",
     "output_type": "stream",
     "text": [
      "we areoosting ourrotherhood\n",
      "it's essential to learn Python's libraries in IT World\n"
     ]
    }
   ],
   "source": [
    "## Dersteki Example 2:\n",
    "\n",
    "print(\"we are\", \"\\boosting\", \"our\", \"\\brotherhood\")\n",
    "\n",
    "print('it\\'s essential to learn Python\\'s libraries in IT World')"
   ]
  },
  {
   "cell_type": "code",
   "execution_count": null,
   "metadata": {
    "id": "EJU6svDOywnB"
   },
   "outputs": [],
   "source": [
    "## Bu kodu cözümleyelim ?? calisir mi hata mi verir??\n",
    "\n",
    "print('merhaba \\benim adim ali\\'\\\n",
    "ben Türkiye\\'de yasiyorum\\\n",
    "ve su an clarusway\\'de IT egitimi aliyorum\\\n",
    "ve su an zoom\\'daki arkadaslar ile \\beraber olmaktan cok mutluyum') \n"
   ]
  },
  {
   "cell_type": "code",
   "execution_count": null,
   "metadata": {
    "colab": {
     "base_uri": "https://localhost:8080/"
    },
    "id": "8Nr7XA5V1q-i",
    "outputId": "9cd084ca-1155-41e6-f871-8b91980060e1"
   },
   "outputs": [
    {
     "name": "stdout",
     "output_type": "stream",
     "text": [
      "lütfen isminizi giriniz: 40\n",
      "lütfen yasinizi giriniz: 40\n",
      "lütfen bulundugunuz ülkeyi giriniz: Tr\n",
      "40 40 Tr\n"
     ]
    }
   ],
   "source": [
    "#####  Example: User dan birkac bilgi isteyelim ve onlari yazdirirken aralarda birer satir bosluk verelim\n",
    "\n",
    "girdi1 = input(\"lütfen isminizi giriniz: \")\n",
    "\n",
    "girdi2 = input(\"lütfen yasinizi giriniz: \")\n",
    "\n",
    "girdi3 = input(\"lütfen bulundugunuz ülkeyi giriniz: \")\n",
    "\n",
    "\n",
    "print(girdi1,  girdi2,  girdi3)           ### ??? su an calistirdigimizda output nasil olur???\n",
    "                                          ##  ve output u istedigimiz sekle nasil dönüstürürüz ?\n",
    "                                           ## asagidaki kodlar nasil sonuc verir sizce ??"
   ]
  },
  {
   "cell_type": "code",
   "execution_count": null,
   "metadata": {
    "colab": {
     "base_uri": "https://localhost:8080/",
     "height": 235
    },
    "id": "531J3WkH1rAS",
    "outputId": "89973944-d8ff-4efb-9d80-cd9e0f9e18cd"
   },
   "outputs": [
    {
     "ename": "TypeError",
     "evalue": "ignored",
     "output_type": "error",
     "traceback": [
      "\u001b[0;31m---------------------------------------------------------------------------\u001b[0m",
      "\u001b[0;31mTypeError\u001b[0m                                 Traceback (most recent call last)",
      "\u001b[0;32m<ipython-input-214-1f4d8579471e>\u001b[0m in \u001b[0;36m<module>\u001b[0;34m()\u001b[0m\n\u001b[0;32m----> 1\u001b[0;31m \u001b[0mgirdi1\u001b[0m \u001b[0;34m=\u001b[0m \u001b[0minput\u001b[0m\u001b[0;34m(\u001b[0m\u001b[0;34m\"lütfen isminizi giriniz: \"\u001b[0m\u001b[0;34m,\u001b[0m \u001b[0mend\u001b[0m \u001b[0;34m=\u001b[0m \u001b[0;34m\"\\n\"\u001b[0m\u001b[0;34m)\u001b[0m \u001b[0;31m# ==>>  sizce buradaki end =\"\" calisir mi???\u001b[0m\u001b[0;34m\u001b[0m\u001b[0;34m\u001b[0m\u001b[0m\n\u001b[0m\u001b[1;32m      2\u001b[0m \u001b[0;34m\u001b[0m\u001b[0m\n\u001b[1;32m      3\u001b[0m \u001b[0mgirdi2\u001b[0m \u001b[0;34m=\u001b[0m \u001b[0minput\u001b[0m\u001b[0;34m(\u001b[0m\u001b[0;34m\"lütfen yasinizi giriniz: \"\u001b[0m\u001b[0;34m)\u001b[0m\u001b[0;34m\u001b[0m\u001b[0;34m\u001b[0m\u001b[0m\n\u001b[1;32m      4\u001b[0m \u001b[0;34m\u001b[0m\u001b[0m\n\u001b[1;32m      5\u001b[0m \u001b[0mgirdi3\u001b[0m \u001b[0;34m=\u001b[0m \u001b[0minput\u001b[0m\u001b[0;34m(\u001b[0m\u001b[0;34m\"lütfen bulundugunuz ülkeyi giriniz: \"\u001b[0m\u001b[0;34m)\u001b[0m\u001b[0;34m\u001b[0m\u001b[0;34m\u001b[0m\u001b[0m\n",
      "\u001b[0;31mTypeError\u001b[0m: raw_input() got an unexpected keyword argument 'end'"
     ]
    }
   ],
   "source": [
    "girdi1 = input(\"lütfen isminizi giriniz: \", end = \"\\n\") # ==>>  sizce buradaki end =\"\" calisir mi???\n",
    "\n",
    "girdi2 = input(\"lütfen yasinizi giriniz: \")\n",
    "\n",
    "girdi3 = input(\"lütfen bulundugunuz ülkeyi giriniz: \")\n",
    "\n",
    "print(girdi1,  girdi2,  girdi3)"
   ]
  },
  {
   "cell_type": "code",
   "execution_count": null,
   "metadata": {
    "colab": {
     "base_uri": "https://localhost:8080/"
    },
    "id": "qFprz0RP1rHh",
    "outputId": "85400611-2b1c-400c-dfbe-9ea087974111"
   },
   "outputs": [
    {
     "name": "stdout",
     "output_type": "stream",
     "text": [
      "lütfen isminizi giriniz: tarik\n",
      "lütfen yasinizi giriniz: 30\n",
      "lütfen bulundugunuz ülkeyi giriniz: ger\n",
      "('tarik', '\\n', '30', '\\n', 'ger')\n"
     ]
    }
   ],
   "source": [
    "##  output ??\n",
    "\n",
    "girdi1 = input(\"lütfen isminizi giriniz: \")\n",
    "\n",
    "girdi2 = input(\"lütfen yasinizi giriniz: \")\n",
    "\n",
    "girdi3 = input(\"lütfen bulundugunuz ülkeyi giriniz: \")\n",
    "\n",
    "new = girdi1, \"\\n\", girdi2, \"\\n\", girdi3\n",
    "\n",
    "print(new)"
   ]
  },
  {
   "cell_type": "code",
   "execution_count": null,
   "metadata": {
    "id": "GI5_9cVy1rLf"
   },
   "outputs": [],
   "source": []
  },
  {
   "cell_type": "code",
   "execution_count": null,
   "metadata": {
    "id": "rP2qeeIbvsdX"
   },
   "outputs": [],
   "source": [
    "# --------------------------------------------------------------------------------"
   ]
  },
  {
   "cell_type": "code",
   "execution_count": null,
   "metadata": {
    "id": "YbSaCsjVu-4L"
   },
   "outputs": [],
   "source": [
    "### Boolean Logic Expressions  ==>>    and,  or,  not "
   ]
  },
  {
   "cell_type": "code",
   "execution_count": null,
   "metadata": {
    "colab": {
     "base_uri": "https://localhost:8080/"
    },
    "id": "D6zrjO1-u-6P",
    "outputId": "fa77033c-0513-446b-ecb2-ca5b9d600d99"
   },
   "outputs": [
    {
     "name": "stdout",
     "output_type": "stream",
     "text": [
      "True\n",
      "False\n",
      "<class 'bool'>\n"
     ]
    }
   ],
   "source": [
    "##  not   en basit olanidir\n",
    "\n",
    "#  True veya False dan hangisinin önüne not koyarsak onu terse cevirir.\n",
    "\n",
    "print(True)\n",
    "\n",
    "print(not True)\n",
    "\n",
    "print(type(not True))   ####  ve biz bunun type ini print ettigimizde yine boolean verecektir"
   ]
  },
  {
   "cell_type": "code",
   "execution_count": null,
   "metadata": {
    "colab": {
     "base_uri": "https://localhost:8080/"
    },
    "id": "PzdJ2P_Ku--S",
    "outputId": "9ba24f50-150c-4bd3-a249-c7e75b17cc44"
   },
   "outputs": [
    {
     "name": "stdout",
     "output_type": "stream",
     "text": [
      "False\n",
      "True\n"
     ]
    }
   ],
   "source": [
    "print(False)\n",
    "\n",
    "print(not False)"
   ]
  },
  {
   "cell_type": "code",
   "execution_count": null,
   "metadata": {
    "colab": {
     "base_uri": "https://localhost:8080/"
    },
    "id": "1Der5WWyu_Aa",
    "outputId": "6d678263-56f4-45c4-af76-ad7282de7e56"
   },
   "outputs": [
    {
     "name": "stdout",
     "output_type": "stream",
     "text": [
      "not Truenot False\n"
     ]
    }
   ],
   "source": [
    "#  output ???\n",
    "\n",
    "my = \"not True\" + \"not False\"  \n",
    "\n",
    "print(my)"
   ]
  },
  {
   "cell_type": "code",
   "execution_count": null,
   "metadata": {
    "colab": {
     "base_uri": "https://localhost:8080/"
    },
    "id": "RdrchGmixh1_",
    "outputId": "515d496c-0a10-449e-dbe0-fab80040940b"
   },
   "outputs": [
    {
     "name": "stdout",
     "output_type": "stream",
     "text": [
      "1\n"
     ]
    }
   ],
   "source": [
    "##  output ??\n",
    "\n",
    "my = (not True) + (not False) \n",
    "\n",
    "print(my)           "
   ]
  },
  {
   "cell_type": "code",
   "execution_count": null,
   "metadata": {
    "id": "Nviny8AgypGS"
   },
   "outputs": [],
   "source": [
    "# --------------------------------------------------------------------"
   ]
  },
  {
   "cell_type": "code",
   "execution_count": null,
   "metadata": {
    "id": "oPPd0vuFypLp"
   },
   "outputs": [],
   "source": [
    "######################          and  or       ###############################"
   ]
  },
  {
   "cell_type": "code",
   "execution_count": null,
   "metadata": {
    "id": "CC0ayTgE5Xdb"
   },
   "outputs": [],
   "source": [
    "###     and                                                       ####    or\n",
    "\n",
    "\n",
    "###     yikicidir                                                     yapicidir\n",
    "\n",
    "###     mükemmelliyetcidir                                            alcakgönüllüdür, aza kanaat eder\n",
    "\n",
    "###     nankördür(tüm iyilikleri unuturum)                            vefalidir(tüm kötülükleri unuturum)\n",
    "\n",
    "###     ve ve diye konusur                                            yada yada diye konusur\n",
    "\n",
    "###     sadece son iyiligi hatirlarim                                 sadece son kötülügü hatirlarim\n",
    "\n",
    "###     herseyi hazir isterim                                         birsey hazir olsa benim icin yeterli\n",
    "\n",
    "###     en ufak hata da ben terkederim                                sadece bir iyi huyun olsun bana yeter\n",
    "\n",
    "###     isminin geregi olarak \"end\" taraftaridir                      isminin geregi 'or'ta yolu bulma taraftari                      \n",
    "\n",
    "###     amac bagciyi dövmek(hata yakalamaya calisir)                  amac üzüm yemek(tek bir iyilik yakalamaya calisir)\n",
    "\n",
    "###     ayip arar                                                     ayip örter\n",
    "\n",
    "###     ceyizimde herseyi hazir isterim                               bana bir tanesi yeter  \n",
    "###     (mobilya ve beyazesya ve aksesuar ve yeni ev)                 (mobilya yada beyazesya yada aksesuar yada ev)\n",
    "\n",
    "# Attention\n",
    "\n",
    "###     Ilk hatadan sonrasina bakmam hepsi iyilikte olsa               Ilk iyilikten sonrasina bakmam               "
   ]
  },
  {
   "cell_type": "code",
   "execution_count": null,
   "metadata": {
    "id": "PtN6gXmb7qkX"
   },
   "outputs": [],
   "source": [
    "  "
   ]
  },
  {
   "cell_type": "code",
   "execution_count": null,
   "metadata": {
    "id": "K0pgM-kL9Y-T"
   },
   "outputs": [],
   "source": []
  },
  {
   "cell_type": "code",
   "execution_count": null,
   "metadata": {
    "id": "l49tZdnO9ZEl"
   },
   "outputs": [],
   "source": [
    "   "
   ]
  },
  {
   "cell_type": "code",
   "execution_count": null,
   "metadata": {
    "id": "dx1Et_8V9ZHp"
   },
   "outputs": [],
   "source": []
  },
  {
   "cell_type": "code",
   "execution_count": null,
   "metadata": {
    "id": "zAQa7-YDNhg5"
   },
   "outputs": [],
   "source": [
    "            "
   ]
  },
  {
   "cell_type": "code",
   "execution_count": null,
   "metadata": {
    "id": "EDOzT3h4NhjD"
   },
   "outputs": [],
   "source": [
    "#### asagidaki outputlar nasildir ??"
   ]
  },
  {
   "cell_type": "code",
   "execution_count": null,
   "metadata": {
    "colab": {
     "base_uri": "https://localhost:8080/"
    },
    "id": "jh10qJLNNhrP",
    "outputId": "ec4ed652-cc2b-45a0-9ecd-10f13028576c"
   },
   "outputs": [
    {
     "name": "stdout",
     "output_type": "stream",
     "text": [
      "False\n"
     ]
    }
   ],
   "source": [
    "print(True and True and True and True and False)      ### sinirsiz sayida iyilik olsa da tek kötülügü yakalar"
   ]
  },
  {
   "cell_type": "code",
   "execution_count": null,
   "metadata": {
    "colab": {
     "base_uri": "https://localhost:8080/"
    },
    "id": "CNb0uZSSNhte",
    "outputId": "15a1bf11-349f-412d-f93d-364639e2e27b"
   },
   "outputs": [
    {
     "name": "stdout",
     "output_type": "stream",
     "text": [
      "True\n"
     ]
    }
   ],
   "source": [
    "print(False or False or False or False or False or True) ## sinirsiz kötülük olsa iyilige odaklanir"
   ]
  },
  {
   "cell_type": "code",
   "execution_count": null,
   "metadata": {
    "colab": {
     "base_uri": "https://localhost:8080/"
    },
    "id": "HSCfuYLDNhwA",
    "outputId": "a95750dd-9c8b-4b3d-e2aa-1a6190f1b95f"
   },
   "outputs": [
    {
     "name": "stdout",
     "output_type": "stream",
     "text": [
      "()\n"
     ]
    }
   ],
   "source": [
    "print(0 or () or \"\" or [] or False or 0.0 or ())  ## tüm kötülükleri unutur sadece sonuncuyu hatirlar"
   ]
  },
  {
   "cell_type": "code",
   "execution_count": null,
   "metadata": {
    "colab": {
     "base_uri": "https://localhost:8080/"
    },
    "id": "drZQy5JRPOj7",
    "outputId": "aefa13be-6487-444a-aae8-bf571f97332f"
   },
   "outputs": [
    {
     "name": "stdout",
     "output_type": "stream",
     "text": [
      "1\n"
     ]
    }
   ],
   "source": [
    "print(1 and 2 and 3 and \"1\" and (2) and [3] and (1))  ## tüm iyilikler unutulur sadece sonuncu hatirlanir"
   ]
  },
  {
   "cell_type": "code",
   "execution_count": null,
   "metadata": {
    "colab": {
     "base_uri": "https://localhost:8080/"
    },
    "id": "NzRNgBy6POq5",
    "outputId": "12b69aae-1bde-4637-aec4-5ec288612bae"
   },
   "outputs": [
    {
     "name": "stdout",
     "output_type": "stream",
     "text": [
      "0\n"
     ]
    }
   ],
   "source": [
    "### and birden cok hata görürse hangisini secer ???\n",
    "\n",
    "print(0 and () and \"\" and [] and False and 0.0 and ())  ### bu or' da olunca tam tersi oluyor"
   ]
  },
  {
   "cell_type": "code",
   "execution_count": null,
   "metadata": {
    "colab": {
     "base_uri": "https://localhost:8080/"
    },
    "id": "_v-pa73LranQ",
    "outputId": "5f9eaa19-0639-49b3-b3ae-306349d9841f"
   },
   "outputs": [
    {
     "name": "stdout",
     "output_type": "stream",
     "text": [
      "1\n"
     ]
    }
   ],
   "source": [
    "### or birden fazla iyilik görürse hangisini secer?\n",
    "\n",
    "print(1 or 2 or 3 or \"1\" or (2) or [3] or (1)) "
   ]
  },
  {
   "cell_type": "code",
   "execution_count": null,
   "metadata": {
    "colab": {
     "base_uri": "https://localhost:8080/"
    },
    "id": "_aWrZQ-uw_8g",
    "outputId": "c0d887b4-c139-499e-d4d8-31533f168f8b"
   },
   "outputs": [
    {
     "name": "stdout",
     "output_type": "stream",
     "text": [
      "Cayiniz var mi: (lütfen evet yada hayir yaziniz) : evet\n",
      "Sekeriniz var mi: (lütfen evet yada hayir yaziniz) : evet\n",
      "Cay kasiginiz var mi: (lütfen evet yada hayir yaziniz) : evet\n",
      "afiyet olsun cay icebilirsiniz\n"
     ]
    }
   ],
   "source": [
    " ###  and ile kurulan if yapisi\n",
    " \n",
    " a = input(\"Cayiniz var mi: (lütfen evet yada hayir yaziniz) : \")\n",
    "\n",
    " b = input(\"Sekeriniz var mi: (lütfen evet yada hayir yaziniz) : \")\n",
    "\n",
    " c = input(\"Cay kasiginiz var mi: (lütfen evet yada hayir yaziniz) : \")\n",
    "\n",
    "x = \"evet\"\n",
    "\n",
    "y = \"hayir\"\n",
    "\n",
    "if a == x and b == x and c == x:          \n",
    "\n",
    "  cay = \"afiyet olsun cay icebilirsiniz\"\n",
    "else:\n",
    "   cay = \"üzgünüz cay icemezsiniz\"\n",
    "\n",
    "print(cay)"
   ]
  },
  {
   "cell_type": "code",
   "execution_count": null,
   "metadata": {
    "colab": {
     "base_uri": "https://localhost:8080/"
    },
    "id": "SzR2fJUea0dP",
    "outputId": "b842af7b-3403-4f0b-bb29-ed5bb1742665"
   },
   "outputs": [
    {
     "name": "stdout",
     "output_type": "stream",
     "text": [
      "Cayiniz var mi: (lütfen evet yada hayir yaziniz) : hayir\n",
      "Sekeriniz var mi: (lütfen evet yada hayir yaziniz) : hayir\n",
      "Cay kasiginiz var mi: (lütfen evet yada hayir yaziniz) : hayir\n",
      "üzgünüz cay icemezsiniz\n"
     ]
    }
   ],
   "source": [
    "## or ile kurulan if yapisi\n",
    "\n",
    "a = input(\"Cayiniz var mi: (lütfen evet yada hayir yaziniz) : \")\n",
    "\n",
    "b = input(\"Sekeriniz var mi: (lütfen evet yada hayir yaziniz) : \")\n",
    "\n",
    "c = input(\"Cay kasiginiz var mi: (lütfen evet yada hayir yaziniz) : \")\n",
    "\n",
    "x = \"evet\"\n",
    "\n",
    "y = \"hayir\"\n",
    "\n",
    "if a == x or b == x or c == x:     \n",
    "\n",
    "  cay = \"afiyet olsun cay icebilirsiniz\"\n",
    "else:\n",
    "   cay = \"üzgünüz cay icemezsiniz\"\n",
    "\n",
    "print(cay)"
   ]
  },
  {
   "cell_type": "code",
   "execution_count": null,
   "metadata": {
    "id": "ZWxIyscra0h7"
   },
   "outputs": [],
   "source": [
    "######################      attention      attention      ################\n",
    "\n",
    "a = input(\"Cayiniz var mi: (lütfen evet yada hayir yaziniz) : \")\n",
    "\n",
    "b = input(\"Sekeriniz var mi: lütfen evet yada hayir yaziniz) : \")\n",
    "\n",
    "c = input(\"Cay kasiginiz var mi: lütfen evet yada hayir yaziniz) : \")\n",
    "\n",
    "x = \"evet\"\n",
    "\n",
    "y = \"hayir\"\n",
    "\n",
    "if a or b or c == x:                        #####    Bu kodlarda sikinti nedir ?????????     \n",
    "                                            ####       \n",
    "  cay = \"afiyet olsun cay icebilirsiniz\"\n",
    "else:\n",
    "   cay = \"üzgünüz cay icemezsiniz\"\n",
    "\n",
    "print(cay)"
   ]
  },
  {
   "cell_type": "code",
   "execution_count": null,
   "metadata": {
    "id": "UWhjniCqa0kS"
   },
   "outputs": [],
   "source": [
    "#####   Türkce Python Dökümani :   https://python-istihza.yazbel.com/"
   ]
  },
  {
   "cell_type": "code",
   "execution_count": null,
   "metadata": {
    "colab": {
     "base_uri": "https://localhost:8080/",
     "height": 132
    },
    "id": "8cDpKqXya0mT",
    "outputId": "141a7b11-7863-45eb-c99f-70367a7e2de5"
   },
   "outputs": [
    {
     "ename": "SyntaxError",
     "evalue": "ignored",
     "output_type": "error",
     "traceback": [
      "\u001b[0;36m  File \u001b[0;32m\"<ipython-input-247-36d56ca7fdb5>\"\u001b[0;36m, line \u001b[0;32m1\u001b[0m\n\u001b[0;31m    not True + not True\u001b[0m\n\u001b[0m                 ^\u001b[0m\n\u001b[0;31mSyntaxError\u001b[0m\u001b[0;31m:\u001b[0m invalid syntax\n"
     ]
    }
   ],
   "source": [
    "not True + not True  \n"
   ]
  },
  {
   "cell_type": "code",
   "execution_count": null,
   "metadata": {
    "id": "JVPu2XlGa0oe"
   },
   "outputs": [],
   "source": [
    "#######   Attention\n",
    "\n",
    "# and ve or operatörleri bir islem icerisinde bulundugunda \n",
    "#islem sonucunda value nun kendisini döndürür True yada False degil \n",
    "\n",
    "## ???????????  output nedir\n",
    "\n",
    "\n",
    "degiskenim = 1 and True and \"2\" and \"Zero\" and 3 and [] and \"\" and (3 + 5j) and False\n",
    "\n",
    "print(degiskenim)"
   ]
  },
  {
   "cell_type": "code",
   "execution_count": null,
   "metadata": {
    "colab": {
     "base_uri": "https://localhost:8080/"
    },
    "id": "TBAs6Q95b2z1",
    "outputId": "a6309370-e2e3-48dc-cff1-3450916b23f6"
   },
   "outputs": [
    {
     "name": "stdout",
     "output_type": "stream",
     "text": [
      "1\n"
     ]
    }
   ],
   "source": [
    "###   output nedir ??????\n",
    "\n",
    "degisken = 0 or \"\" or [] or () or False or None or 1 or \"\"\n",
    "\n",
    "print(degisken)\n",
    "\n",
    "\n",
    "print()  \\n"
   ]
  },
  {
   "cell_type": "code",
   "execution_count": null,
   "metadata": {
    "id": "SWXmXxa3b22X"
   },
   "outputs": [],
   "source": [
    "zordegisken = 1 and 2 and 3 and 4 and 5 and \" \" and (    ) and [     ] and \"Zero\" \n",
    "\n",
    "print(zordegisken)"
   ]
  },
  {
   "cell_type": "code",
   "execution_count": null,
   "metadata": {
    "id": "sfyWJk28b25A"
   },
   "outputs": [],
   "source": [
    "#####################################\n",
    "\n",
    "# Her value nun bir True yada False karsiligi vardir\n",
    "\n",
    "# hesaplama yaparken bunlari gözönünde bulundurarak hesaplama yapar python\n",
    "\n",
    "# ama print ederken value nun kendisini print eder"
   ]
  },
  {
   "cell_type": "code",
   "execution_count": null,
   "metadata": {
    "id": "FYisofvTb274"
   },
   "outputs": [],
   "source": [
    "abc = False and False and False and False  # Burada hangi False print edilir asagida saglama yapalim\n",
    "\n",
    "abcd = 0 and \"\" and [] and () and False and None \n",
    "\n",
    "print(abc)\n",
    "\n",
    "print(abcd)"
   ]
  },
  {
   "cell_type": "code",
   "execution_count": null,
   "metadata": {
    "id": "8sGukSedb29c"
   },
   "outputs": [],
   "source": []
  },
  {
   "cell_type": "code",
   "execution_count": null,
   "metadata": {
    "id": "0uCKQOgHb2_i"
   },
   "outputs": [],
   "source": [
    "###############        order of priority   ( islem öncelik sirasi)        ###########"
   ]
  },
  {
   "cell_type": "code",
   "execution_count": null,
   "metadata": {
    "id": "7dRZtpykb3Bc"
   },
   "outputs": [],
   "source": [
    "## eger bir satirda not, and ve or ayni ayna kullaniliyorsa bunlar arasinda bir öncelik sirasi vardir\n",
    "\n",
    "# aksi takdirde bir karmasa yasanacakktir\n",
    "\n",
    "# 1: not \n",
    "\n",
    "# 2: and\n",
    "\n",
    "# 3: or"
   ]
  },
  {
   "cell_type": "code",
   "execution_count": null,
   "metadata": {
    "id": "u1L2QKUmNT-a"
   },
   "outputs": [],
   "source": [
    "#### Attention :  kod yazarken  \" 1 or not 0 \" seklinde kullaniyoruz\n",
    "\n",
    "#                               \" 1 not or 0\"  hata verir"
   ]
  },
  {
   "cell_type": "code",
   "execution_count": null,
   "metadata": {
    "id": "VFDtnR0j3HHG"
   },
   "outputs": [],
   "source": [
    "# Example:\n",
    "\n",
    "degisken = 1 and 2 or 3 and 4 or not 5 and \" \" or (    ) and [     ] or not  \"Zero\" \n",
    "\n",
    "print(degisken)"
   ]
  },
  {
   "cell_type": "code",
   "execution_count": null,
   "metadata": {
    "id": "GULhNsYI3HJk"
   },
   "outputs": [],
   "source": [
    "a = 1 and 2 or 3 and 4 or 5 and \" \" or (    ) and [     ] or \"Zero\" \n",
    "\n",
    "b = 0 or \"\" or [] or not () or False or None or 1 or not \"\" \n",
    "\n",
    "print(a + b)           ######   Attention   sizce bu kod calisir mi  ???????"
   ]
  },
  {
   "cell_type": "code",
   "execution_count": null,
   "metadata": {
    "id": "eV5uKcRz3HLT"
   },
   "outputs": [],
   "source": [
    "a = 1 and 2 or 3 and 4 or 5 and \" \" or (    ) and [     ] or \"Zero\" \n",
    "\n",
    "b = 0 or \"\" or [] or () or False or None or 1 or \"\" \n",
    "\n",
    "print(a * b)                    ### output ??"
   ]
  },
  {
   "cell_type": "code",
   "execution_count": null,
   "metadata": {
    "id": "WlUHu1Zd3HNe"
   },
   "outputs": [],
   "source": [
    "a = 1 and 2 or 3 and 4 or 5 and \" \" or (    ) and [     ] or \"Zero\" \n",
    "\n",
    "b = 1 and True and \"2\" and \"Zero\" and 3 and [] and \"\" and (3 + 5j) and False \n",
    "\n",
    "print(a / b)           ######  sizce bu kod calisir mi ? neden ???"
   ]
  },
  {
   "cell_type": "code",
   "execution_count": null,
   "metadata": {
    "id": "96p2ooVY3HRD"
   },
   "outputs": [],
   "source": []
  },
  {
   "cell_type": "code",
   "execution_count": null,
   "metadata": {
    "id": "nnwzoUZ97t5j"
   },
   "outputs": [],
   "source": [
    "print('first', 'second', 'third', sep = '\\t')"
   ]
  },
  {
   "cell_type": "code",
   "execution_count": null,
   "metadata": {
    "id": "cPmfQAXY7t9C"
   },
   "outputs": [],
   "source": []
  },
  {
   "cell_type": "code",
   "execution_count": null,
   "metadata": {
    "id": "6pSlQiv77t_R"
   },
   "outputs": [],
   "source": []
  },
  {
   "cell_type": "code",
   "execution_count": null,
   "metadata": {
    "id": "gVj8MwMS7uBM"
   },
   "outputs": [],
   "source": []
  },
  {
   "cell_type": "code",
   "execution_count": null,
   "metadata": {
    "id": "HolXJKSn7uDX"
   },
   "outputs": [],
   "source": []
  },
  {
   "cell_type": "code",
   "execution_count": null,
   "metadata": {
    "id": "prLeiFO07uE8"
   },
   "outputs": [],
   "source": []
  },
  {
   "cell_type": "code",
   "execution_count": null,
   "metadata": {
    "id": "QFLskWly_pOU"
   },
   "outputs": [],
   "source": [
    "\n"
   ]
  },
  {
   "cell_type": "code",
   "execution_count": null,
   "metadata": {
    "id": "lLRKcrue_pQ8"
   },
   "outputs": [],
   "source": [
    "\n"
   ]
  },
  {
   "cell_type": "code",
   "execution_count": null,
   "metadata": {
    "id": "_vWlRH1Z_pUC"
   },
   "outputs": [],
   "source": []
  },
  {
   "cell_type": "code",
   "execution_count": null,
   "metadata": {
    "id": "mo9-C3jy_pWy"
   },
   "outputs": [],
   "source": []
  },
  {
   "cell_type": "code",
   "execution_count": null,
   "metadata": {
    "id": "fyFtggp2_pZm"
   },
   "outputs": [],
   "source": []
  },
  {
   "cell_type": "code",
   "execution_count": null,
   "metadata": {
    "id": "x8CD7Ybd_pb_"
   },
   "outputs": [],
   "source": []
  },
  {
   "cell_type": "code",
   "execution_count": null,
   "metadata": {
    "id": "MsSS1QqdV69t"
   },
   "outputs": [],
   "source": []
  },
  {
   "cell_type": "code",
   "execution_count": null,
   "metadata": {
    "id": "H0ESomQMV7Bm"
   },
   "outputs": [],
   "source": []
  },
  {
   "cell_type": "code",
   "execution_count": null,
   "metadata": {
    "id": "bptMJzDgV7GH"
   },
   "outputs": [],
   "source": []
  },
  {
   "cell_type": "code",
   "execution_count": null,
   "metadata": {
    "id": "eKz-nj-yV7PK"
   },
   "outputs": [],
   "source": []
  },
  {
   "cell_type": "code",
   "execution_count": null,
   "metadata": {
    "id": "WfC6INod_pec"
   },
   "outputs": [],
   "source": []
  },
  {
   "cell_type": "code",
   "execution_count": null,
   "metadata": {
    "id": "aByWl95Ibkp1"
   },
   "outputs": [],
   "source": []
  },
  {
   "cell_type": "code",
   "execution_count": null,
   "metadata": {
    "id": "5uHag8e7bktl"
   },
   "outputs": [],
   "source": []
  },
  {
   "cell_type": "code",
   "execution_count": null,
   "metadata": {
    "id": "Jzw9UCawbkv6"
   },
   "outputs": [],
   "source": []
  },
  {
   "cell_type": "code",
   "execution_count": null,
   "metadata": {
    "id": "t63HkvsRbkz8"
   },
   "outputs": [],
   "source": []
  },
  {
   "cell_type": "code",
   "execution_count": null,
   "metadata": {
    "id": "m8Tq2zk3cKjE"
   },
   "outputs": [],
   "source": []
  },
  {
   "cell_type": "code",
   "execution_count": null,
   "metadata": {
    "id": "hhdAEzJPcKl0"
   },
   "outputs": [],
   "source": []
  },
  {
   "cell_type": "code",
   "execution_count": null,
   "metadata": {
    "id": "ctb58tqycKoM"
   },
   "outputs": [],
   "source": []
  }
 ],
 "metadata": {
  "colab": {
   "collapsed_sections": [],
   "name": "Python 3. session.ipynb",
   "provenance": [],
   "toc_visible": true
  },
  "kernelspec": {
   "display_name": "Python 3",
   "language": "python",
   "name": "python3"
  },
  "language_info": {
   "codemirror_mode": {
    "name": "ipython",
    "version": 3
   },
   "file_extension": ".py",
   "mimetype": "text/x-python",
   "name": "python",
   "nbconvert_exporter": "python",
   "pygments_lexer": "ipython3",
   "version": "3.8.8"
  }
 },
 "nbformat": 4,
 "nbformat_minor": 4
}
