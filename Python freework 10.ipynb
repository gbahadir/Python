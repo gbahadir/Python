{
 "cells": [
  {
   "cell_type": "code",
   "execution_count": 15,
   "id": "fe9ed844",
   "metadata": {},
   "outputs": [
    {
     "name": "stdout",
     "output_type": "stream",
     "text": [
      "enter five numbers 9 21 35 2 7\n",
      "[2, 7, 9, 21, 35]\n",
      "The second biggest number is:  21\n"
     ]
    }
   ],
   "source": [
    "numbers = list(map(int,input(\"enter five numbers \").split()))\n",
    "print(sorted(numbers))\n",
    "sec_max = sorted(set(numbers))[-2]\n",
    "print(\"The second biggest number is: \", sec_max)"
   ]
  },
  {
   "cell_type": "code",
   "execution_count": 18,
   "id": "89d85117",
   "metadata": {},
   "outputs": [
    {
     "name": "stdout",
     "output_type": "stream",
     "text": [
      "En kisa kelime 'soru', uzunlugu ise 4 harf\n"
     ]
    }
   ],
   "source": [
    "text = \" soru cozumuyle kodlama becerim gelisiyor.\"\n",
    "en_kisa =min(text.split(), key=len)\n",
    "print(\"En kisa kelime '{}', uzunlugu ise {} harf\".format(en_kisa, len(en_kisa)))"
   ]
  },
  {
   "cell_type": "code",
   "execution_count": 5,
   "id": "445bec73",
   "metadata": {},
   "outputs": [
    {
     "name": "stdout",
     "output_type": "stream",
     "text": [
      "Enter a number: 4\n",
      "4  is a positive number\n"
     ]
    }
   ],
   "source": [
    "a = int(input(\"Enter a number: \"))\n",
    "if a > 0:\n",
    "    print(a, \" is a positive number\")\n",
    "elif a < 0: \n",
    "    print(a, \" is a negaative number\")\n",
    "else :\n",
    "    print(a, \" is zero\")"
   ]
  },
  {
   "cell_type": "code",
   "execution_count": 6,
   "id": "91be42fe",
   "metadata": {},
   "outputs": [
    {
     "name": "stdout",
     "output_type": "stream",
     "text": [
      "0 -10\n"
     ]
    }
   ],
   "source": [
    "command = [\"right 20\", \"right 30\", \"left 50\", \"up 10\", \"down 20\"]\n",
    "coordinate = [i.split() for i in command]\n",
    "x,y = 0,0\n",
    "for z in coordinate:\n",
    "    if z[0] == \"right\":\n",
    "        x+= int(z[1])\n",
    "    elif z[0] == \"left\":\n",
    "        x-= int(z[1])\n",
    "    elif z[0] == \"up\":\n",
    "        y+= int(z[1])\n",
    "    elif z[0] == \"down\":\n",
    "        y-= int(z[1])\n",
    "print(x,y)"
   ]
  },
  {
   "cell_type": "code",
   "execution_count": 7,
   "id": "04884ce2",
   "metadata": {},
   "outputs": [],
   "source": [
    "def isvalid(s):\n",
    "    while \"()\" in s or \"{}\" in s or \"[]\" in s:\n",
    "        s = s.replace(\"()\", \"\").replace(\"{}\", \"\").replace(\"[]\", \"\")\n",
    "    return s==\"\"\n",
    "\n"
   ]
  },
  {
   "cell_type": "code",
   "execution_count": 13,
   "id": "ec7c6f73",
   "metadata": {},
   "outputs": [],
   "source": [
    "x = \"([{({})}]({}))\""
   ]
  },
  {
   "cell_type": "code",
   "execution_count": 14,
   "id": "0f38e811",
   "metadata": {},
   "outputs": [
    {
     "data": {
      "text/plain": [
       "True"
      ]
     },
     "execution_count": 14,
     "metadata": {},
     "output_type": "execute_result"
    }
   ],
   "source": [
    "isvalid(x)"
   ]
  },
  {
   "cell_type": "code",
   "execution_count": null,
   "id": "f635dc8b",
   "metadata": {},
   "outputs": [],
   "source": []
  }
 ],
 "metadata": {
  "kernelspec": {
   "display_name": "Python 3 (ipykernel)",
   "language": "python",
   "name": "python3"
  },
  "language_info": {
   "codemirror_mode": {
    "name": "ipython",
    "version": 3
   },
   "file_extension": ".py",
   "mimetype": "text/x-python",
   "name": "python",
   "nbconvert_exporter": "python",
   "pygments_lexer": "ipython3",
   "version": "3.9.7"
  },
  "toc": {
   "base_numbering": 1,
   "nav_menu": {},
   "number_sections": true,
   "sideBar": true,
   "skip_h1_title": false,
   "title_cell": "Table of Contents",
   "title_sidebar": "Contents",
   "toc_cell": false,
   "toc_position": {},
   "toc_section_display": true,
   "toc_window_display": false
  }
 },
 "nbformat": 4,
 "nbformat_minor": 5
}
