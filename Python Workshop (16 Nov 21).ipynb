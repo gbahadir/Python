{
 "cells": [
  {
   "cell_type": "markdown",
   "metadata": {},
   "source": [
    "SORU-1: Kullanıcının belirleyeceği \"n\" adet sayının tek tek girilmesini sağlayarak, bu sayıların toplamını bulan python kodunu yazınız.\n",
    "\n",
    "* For döngüsü kullanılmalıdır"
   ]
  },
  {
   "cell_type": "code",
   "execution_count": 6,
   "metadata": {},
   "outputs": [
    {
     "name": "stdin",
     "output_type": "stream",
     "text": [
      "Kac adet sayi gireceksiniz? : 5\n",
      "1. sayi giriniz =  2\n",
      "2. sayi giriniz =  3\n",
      "3. sayi giriniz =  4\n",
      "4. sayi giriniz =  5\n",
      "5. sayi giriniz =  6\n"
     ]
    },
    {
     "name": "stdout",
     "output_type": "stream",
     "text": [
      "Girmis oldugunuz sayilarin toplami =  20\n"
     ]
    }
   ],
   "source": [
    "n = int(input(\"Kac adet sayi gireceksiniz? :\"))\n",
    "listem = []\n",
    "\n",
    "for i in range(1, n+1) :\n",
    "    sayi = int(input(f\"{i}. sayi giriniz = \"))\n",
    "    listem.append(sayi)\n",
    "print(\"Girmis oldugunuz sayilarin toplami = \", sum(listem))"
   ]
  },
  {
   "cell_type": "code",
   "execution_count": 2,
   "metadata": {},
   "outputs": [
    {
     "name": "stdin",
     "output_type": "stream",
     "text": [
      "Kac adet sayi gireceksiniz? : 5\n",
      "1.sayi giriniz =  2\n",
      "2.sayi giriniz =  3\n",
      "3.sayi giriniz =  4\n",
      "4.sayi giriniz =  5\n",
      "5.sayi giriniz =  6\n"
     ]
    },
    {
     "name": "stdout",
     "output_type": "stream",
     "text": [
      "sayilarintoplami = 20\n"
     ]
    }
   ],
   "source": [
    "n = int(input(\"Kac adet sayi gireceksiniz? :\"))\n",
    "toplam = 0 \n",
    "\n",
    "for i in range(1, n+1):\n",
    "    sayi = int(input(f\"{i}.sayi giriniz = \"))\n",
    "    toplam += sayi\n",
    "    \n",
    "print(f\"sayilarintoplami = {toplam}\")"
   ]
  },
  {
   "cell_type": "code",
   "execution_count": 10,
   "metadata": {},
   "outputs": [
    {
     "name": "stdin",
     "output_type": "stream",
     "text": [
      "Aralara bosluk birakarak sayilari giriniz: 2 3 4 5 6 \n"
     ]
    },
    {
     "name": "stdout",
     "output_type": "stream",
     "text": [
      "Girmiş olduğunuz sayıların toplamı=  20\n"
     ]
    }
   ],
   "source": [
    "n = map(int,input(\"Aralara bosluk birakarak sayilari giriniz:\").split()) \n",
    "\n",
    "#toplam = sum(sayılar)\n",
    "# print(\"Girmiş olduğunuz sayıların toplamı= {0}\".format(toplam)) # sum(toplam)'ı direkt print içine de yazabiliriz\n",
    "\n",
    "print(\"Girmiş olduğunuz sayıların toplamı= \", sum(n))\n"
   ]
  },
  {
   "cell_type": "markdown",
   "metadata": {},
   "source": [
    "SORU-2: Kullanıcıdan alınan uc kenar uzunluğuna göre şeklin eskenar ucgen, ikizkenar ucgen veya cok kenar ucgenden biri olduğunu belirten python kodunu yazınız.\n",
    "\n",
    "\n",
    "* if-elif-else statement kullanılmalıdır"
   ]
  },
  {
   "cell_type": "code",
   "execution_count": 15,
   "metadata": {},
   "outputs": [
    {
     "name": "stdin",
     "output_type": "stream",
     "text": [
      "ucgenin kenar uzunluklarini giriniz :  3 2 2\n"
     ]
    },
    {
     "name": "stdout",
     "output_type": "stream",
     "text": [
      "ikizkenar ucgendir\n"
     ]
    }
   ],
   "source": [
    "a, b, c = map(int, input(\"ucgenin kenar uzunluklarini giriniz : \").split())\n",
    "\n",
    "if a == b and b == c and a == c :\n",
    "    print(\"eskenar ucgendir\")\n",
    "    \n",
    "elif (a == b and a != c) or (a == c and a != b) or (b == c and b != a) :\n",
    "    print(\"ikizkenar ucgendir\")\n",
    "    \n",
    "else :\n",
    "    print(\"cokkenar ucgendir\")"
   ]
  },
  {
   "cell_type": "code",
   "execution_count": 21,
   "metadata": {},
   "outputs": [
    {
     "name": "stdin",
     "output_type": "stream",
     "text": [
      "Piramit kac basamakli olsun?  10\n"
     ]
    },
    {
     "name": "stdout",
     "output_type": "stream",
     "text": [
      "         *\n",
      "        ***\n",
      "       *****\n",
      "      *******\n",
      "     *********\n",
      "    ***********\n",
      "   *************\n",
      "  ***************\n",
      " *****************\n",
      "*******************\n"
     ]
    }
   ],
   "source": [
    "n = int(input(\"Piramit kac basamakli olsun? \"))\n",
    "for i in range(1, n+1):\n",
    "    print(\" \" * (n - i) + (\"*\" * (2 * i - 1)))\n"
   ]
  },
  {
   "cell_type": "markdown",
   "metadata": {},
   "source": [
    "SORU-3: Kullanıcının belirleyeceği satır sayısı (n) kadar, \"*\" işaretiyle piramit oluşturan python kodunu yazınız.\n",
    "\n",
    "* For döngüsü kullanılmalıdır"
   ]
  },
  {
   "cell_type": "markdown",
   "metadata": {},
   "source": [
    "SORU-4: Kullanıcının yarıçap değerini girdiği bir dairenin, alan ve çevresini hesaplayan python kodunu yazınız.\n",
    "\n",
    "* Fonksiyon tanımlanmalıdır\n",
    "\n",
    "Fonksiyon nedir?\n",
    "\n",
    "Temel olarak fonksiyon, bizim belirttiğimiz işlemi istediğimiz argumanlar üzerinde yürüten bir kod bloğudur. Bazı fonksiyonlar metin yazdırır, bazı verileri siler veya bir sayının karesini alır. Fonksiyona, yalnızca çağrıldığında çalışan bir kod parçası da diyebiliriz.\n",
    "\n",
    "print(), int(), list(), input(), range()\n",
    "\n",
    "Bildiğimiz üzere build-in functionlar var. 69 tane.\n",
    "\n",
    "Bir de bunun yanında user-defined function yani kullanıcının kendi ihtiyacına göre tanımladığı fonk.lar var.\n",
    "\n",
    "Fonksiyon (her ikisi içinde) kullanmamızın bize sağladığı çok önemli 2 kolaylık var:\n",
    "\n",
    "1- Programımızı çok daha sade ve anlaşılır kılmamızı sağlıyor. 2- Uzun bir programda aynı kod grubunu tekrar tekrar yazmamızı engelleyerek, zaman kaybını ve kodların arasında kaybolarak hata yapma ihtimalimizin artmasını engelliyor.\n",
    "\n",
    "def anahtar sözcüğü, fonksiyonun adını tanıtır. Bunu, fonksiyon adı ve parantez içindeki argümanlar izlemelidir. Fonksiyonun body yani gövdesini oluşturan ifadeler bir sonraki satırdan başlar ve 4 boşluk girintili olmalıdır."
   ]
  },
  {
   "cell_type": "code",
   "execution_count": 26,
   "metadata": {
    "tags": []
   },
   "outputs": [
    {
     "name": "stdin",
     "output_type": "stream",
     "text": [
      "Yaricap degerini giriniz : 5\n"
     ]
    },
    {
     "name": "stdout",
     "output_type": "stream",
     "text": [
      "Dairenin alani= 78.5 ve dairenin cevresi = 31.4\n"
     ]
    }
   ],
   "source": [
    "yaricap = int(input(\"Yaricap degerini giriniz :\"))\n",
    "\n",
    "alan = 3.14 * yaricap ** 2\n",
    "cevre = 2 * 3.14 * yaricap\n",
    "\n",
    "print(f\"Dairenin alani= {round(alan, 2)} ve dairenin cevresi = {round(cevre, 3)}\")"
   ]
  },
  {
   "cell_type": "code",
   "execution_count": 28,
   "metadata": {
    "tags": []
   },
   "outputs": [
    {
     "name": "stdin",
     "output_type": "stream",
     "text": [
      "Yaricap degerini giriniz : 5\n"
     ]
    },
    {
     "name": "stdout",
     "output_type": "stream",
     "text": [
      "Dairenin alani =  78.5\n",
      "Dairenin cevresi =  31.4\n"
     ]
    }
   ],
   "source": [
    "def alan(yaricap) :\n",
    "    alan = 3.14 * yaricap ** 2\n",
    "    return alan\n",
    "\n",
    "def cevre(yaricap) :\n",
    "    cevre = 3.14 * yaricap * 2\n",
    "    return cevre\n",
    "    \n",
    "\n",
    "yaricap = float(input(\"Yaricap degerini giriniz :\"))\n",
    "\n",
    "print(\"Dairenin alani = \", round(alan(yaricap), 2))\n",
    "print(\"Dairenin cevresi = \", round(cevre(yaricap), 2))\n",
    "\n",
    "# print(f\"dairenin alani ={alan(yaricap)}\")\n",
    "  \n",
    "# print(f\"dairenin alani = {alan(int(input('Yaricap degerini giriniz :')))}\")        "
   ]
  },
  {
   "cell_type": "markdown",
   "metadata": {},
   "source": [
    "SORU-5: Kullanıcının girdiği 2 sayı arasındaki çift sayıların ortalamasını bulan python kodunu yazınız.\n",
    "\n",
    "* map() fonksiyonu kullanılmalı ve\n",
    "* Fonksiyon tanımlanmalıdır"
   ]
  },
  {
   "cell_type": "code",
   "execution_count": 33,
   "metadata": {
    "tags": []
   },
   "outputs": [
    {
     "name": "stdin",
     "output_type": "stream",
     "text": [
      "Aralarinda bosluk birakarak iki sayi giriniz:  5 10\n"
     ]
    },
    {
     "name": "stdout",
     "output_type": "stream",
     "text": [
      "Cift sayilarin ortalamasi = 8.0\n"
     ]
    }
   ],
   "source": [
    "baslangic, bitis = map(int, input(\"Aralarinda bosluk birakarak iki sayi giriniz: \").split())\n",
    "\n",
    "toplam = 0\n",
    "sayac = 0\n",
    "\n",
    "for i in range(baslangic, bitis+1) :\n",
    "    if i % 2 == 0 :\n",
    "        toplam += i\n",
    "        sayac += 1\n",
    "\n",
    "ortalama = toplam / sayac\n",
    "print(f\"Cift sayilarin ortalamasi = {ortalama}\")"
   ]
  },
  {
   "cell_type": "code",
   "execution_count": 34,
   "metadata": {
    "tags": []
   },
   "outputs": [
    {
     "name": "stdin",
     "output_type": "stream",
     "text": [
      "Aralarinda bosluk birakarak iki sayi giriniz:  5 10\n"
     ]
    },
    {
     "name": "stdout",
     "output_type": "stream",
     "text": [
      "[6, 8, 10]\n",
      "Cift sayilarin ortalamasi = 8.0\n"
     ]
    }
   ],
   "source": [
    "baslangic, bitis = map(int, input(\"Aralarinda bosluk birakarak iki sayi giriniz: \").split())\n",
    "\n",
    "listem = []\n",
    "sayac = baslangic\n",
    "\n",
    "while baslangic <= sayac <= bitis :\n",
    "    if sayac % 2 == 0 :\n",
    "        listem.append(sayac)\n",
    "        sayac += 1\n",
    "    else :\n",
    "        sayac += 1\n",
    "        continue\n",
    "\n",
    "ortalama = sum(listem) / len(listem)\n",
    "\n",
    "print(listem)\n",
    "print(f\"Cift sayilarin ortalamasi = {ortalama}\")\n",
    "        "
   ]
  },
  {
   "cell_type": "code",
   "execution_count": 40,
   "metadata": {},
   "outputs": [
    {
     "name": "stdin",
     "output_type": "stream",
     "text": [
      "Aralarinda bosluk birakarak iki sayi giriniz:  5 10\n"
     ]
    },
    {
     "name": "stdout",
     "output_type": "stream",
     "text": [
      "Cift sayilarin ortalamasi = 8.0\n"
     ]
    }
   ],
   "source": [
    "def cift(baslangic, bitis) :\n",
    "    liste =[]\n",
    "    for i in range(baslangic, bitis+1) :\n",
    "        if i % 2 == 0 :\n",
    "            liste.append(i)\n",
    "    return liste \n",
    "\n",
    "a, b = list(map(int, input(\"Aralarinda bosluk birakarak iki sayi giriniz: \").split()))\n",
    "\n",
    "ortalama = sum(cift(a, b)) / len(cift(a, b))\n",
    "\n",
    "print(f\"Cift sayilarin ortalamasi = {ortalama}\")"
   ]
  },
  {
   "cell_type": "markdown",
   "metadata": {},
   "source": [
    "**SORU-6:** x listesi içinde verilen sayıları birbiriyle çarpan python kodunu yazınız.\n",
    "\n",
    "x = [1, 2, 3, 4, 5]\n",
    "\n",
    "* Fonksiyon tanımlanmalıdır"
   ]
  },
  {
   "cell_type": "code",
   "execution_count": 42,
   "metadata": {},
   "outputs": [
    {
     "name": "stdout",
     "output_type": "stream",
     "text": [
      "Liste elemanlarinin carpimi sonucu = 120\n"
     ]
    }
   ],
   "source": [
    "x = [1, 2, 3, 4, 5]\n",
    "carpim = 1\n",
    "\n",
    "for i in x :\n",
    "    carpim *= i\n",
    "    \n",
    "print(f\"Liste elemanlarinin carpimi sonucu = {carpim}\")     \n"
   ]
  },
  {
   "cell_type": "code",
   "execution_count": 45,
   "metadata": {},
   "outputs": [
    {
     "name": "stdout",
     "output_type": "stream",
     "text": [
      "120\n"
     ]
    }
   ],
   "source": [
    "def carpma(listem) :\n",
    "    carpim = 1\n",
    "    for i in listem :\n",
    "        carpim *= i\n",
    "    return carpim    \n",
    "        \n",
    "listem = [1, 2, 3, 4, 5]\n",
    "\n",
    "print(carpma(listem))\n",
    " \n",
    "        "
   ]
  },
  {
   "cell_type": "markdown",
   "metadata": {},
   "source": [
    "**SORU-7:** Tanımlanan bir liste içinde aranan değerin kaç tane olduğunu bulan Python kodunu yazınız.\n",
    "\n",
    "x = [1, 3, 8, 6, 8, 10, 20, 6, 22, 14, 10, 8, 13, 7, 8] \n",
    "\n",
    "Output = 8 elemanı dizi içinde 4 adet bulunmaktadır\n",
    "\n",
    "* Fonksiyon tanımlanmalıdır"
   ]
  },
  {
   "cell_type": "code",
   "execution_count": 54,
   "metadata": {},
   "outputs": [
    {
     "name": "stdin",
     "output_type": "stream",
     "text": [
      "Lutfen listeden bir sayi giriniz :  3\n"
     ]
    },
    {
     "name": "stdout",
     "output_type": "stream",
     "text": [
      "listedeki 3 sayisindan 2 tane bulunmaktadir.\n"
     ]
    }
   ],
   "source": [
    "def sayi_adedi(listem, x) :\n",
    "    sayac = 0\n",
    "    for i in listem :\n",
    "        if i == x :\n",
    "            sayac +=1\n",
    "    return sayac\n",
    "\n",
    "x = int(input(\"Lutfen listeden bir sayi giriniz : \"))\n",
    "listem = [1, 3, 8, 6, 8, 3, 10, 20, 6, 22, 14, 10, 8, 13, 7, 8]\n",
    "\n",
    "print(f\"listedeki {x} sayisindan {sayi_adedi(listem, x)} tane bulunmaktadir.\")"
   ]
  },
  {
   "cell_type": "code",
   "execution_count": 55,
   "metadata": {},
   "outputs": [
    {
     "name": "stdin",
     "output_type": "stream",
     "text": [
      "Lutfen listeden bir sayi giriniz :  3\n"
     ]
    },
    {
     "name": "stdout",
     "output_type": "stream",
     "text": [
      "3 elemanı liste içinde 2 adet bulunmaktadır\n"
     ]
    }
   ],
   "source": [
    "def sayi_adedi(listem, x):\n",
    "  return listem.count(x)\n",
    "\n",
    "listem = [1, 3, 8, 6, 8, 3, 10, 20, 6, 22, 14, 6, 10, 8, 13, 7, 8]\n",
    "x = int(input(\"Lutfen listeden bir sayi giriniz : \"))  ## Bu değerleri print içine yazarak ta aynı sonucu alabilir miyiz?\n",
    "\n",
    "print(f'{x} elemanı liste içinde {sayımX(listem, x)} adet bulunmaktadır')"
   ]
  },
  {
   "cell_type": "markdown",
   "metadata": {},
   "source": [
    "**SORU-8:** Kullanıcıdan oluşturduğu listedeki herhangi iki elamanın yerini değiştiren python kodunu yazınız.\n",
    "\n",
    "* map() fonksiyonu kullanılmalı ve\n",
    "* Fonksiyon tanımlanmalıdır"
   ]
  },
  {
   "cell_type": "code",
   "execution_count": 58,
   "metadata": {},
   "outputs": [
    {
     "name": "stdin",
     "output_type": "stream",
     "text": [
      "Aralara bosluk birakarak liste sayilarini giriniz: 1 2 3 4 5 6 7 8 9 \n",
      "Aralara bosluk birakarak index sayilarini giriniz: 2 6\n"
     ]
    },
    {
     "name": "stdout",
     "output_type": "stream",
     "text": [
      "[1, 2, 3, 4, 5, 6, 7, 8, 9]\n",
      "[1, 2, 7, 4, 5, 6, 3, 8, 9]\n"
     ]
    }
   ],
   "source": [
    "def degisme(listem, pos1, pos2) :\n",
    "    listem[pos1], listem[pos2] = listem[pos2], listem[pos1]\n",
    "    return listem\n",
    "\n",
    "listem = list(map(int,input(\"Aralara bosluk birakarak liste sayilarini giriniz:\").split()))\n",
    "pos1, pos2 = map(int,input(\"Aralara bosluk birakarak index sayilarini giriniz:\").split())\n",
    "\n",
    "print(listem)\n",
    "print(degisme(listem, pos1, pos2))\n",
    "    "
   ]
  },
  {
   "cell_type": "code",
   "execution_count": null,
   "metadata": {},
   "outputs": [],
   "source": []
  }
 ],
 "metadata": {
  "kernelspec": {
   "display_name": "Python 3",
   "language": "python",
   "name": "python3"
  },
  "language_info": {
   "codemirror_mode": {
    "name": "ipython",
    "version": 3
   },
   "file_extension": ".py",
   "mimetype": "text/x-python",
   "name": "python",
   "nbconvert_exporter": "python",
   "pygments_lexer": "ipython3",
   "version": "3.8.8"
  }
 },
 "nbformat": 4,
 "nbformat_minor": 4
}
